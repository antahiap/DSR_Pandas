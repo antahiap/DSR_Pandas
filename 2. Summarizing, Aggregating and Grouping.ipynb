{
 "cells": [
  {
   "cell_type": "code",
   "execution_count": 1,
   "metadata": {},
   "outputs": [],
   "source": [
    "import pandas as pd\n",
    "import numpy as np"
   ]
  },
  {
   "attachments": {},
   "cell_type": "markdown",
   "metadata": {},
   "source": [
    "# Summarizing, Aggregating & Grouping\n",
    "Knowing how to use pandas aggregation & grouping functions lets us reduce the dimensionality of our data and visualize it in different ways (most often over the rows - aka `axis=0`).  \n",
    "\n",
    "For completeness, `axis=1` refers to the columns."
   ]
  },
  {
   "cell_type": "code",
   "execution_count": 2,
   "metadata": {},
   "outputs": [],
   "source": [
    "wine = pd.read_csv('data/wine_reviews/winemag-data_first150k.csv', index_col=0)"
   ]
  },
  {
   "attachments": {},
   "cell_type": "markdown",
   "metadata": {},
   "source": [
    "## Initial quick analysis using pandas\n",
    "Pandas has multiple built-in functions that make it easy to quickly see what's in your dataframe. \n",
    "You can build them with the selecting tools you used before."
   ]
  },
  {
   "attachments": {},
   "cell_type": "markdown",
   "metadata": {},
   "source": [
    "Here, we will select a column, and then see how pandas lets us quickly analyse it.\n",
    "\n",
    "To quickly see which columns our wine dataset has, we can use the .columns attribute."
   ]
  },
  {
   "cell_type": "code",
   "execution_count": 4,
   "metadata": {},
   "outputs": [
    {
     "data": {
      "text/plain": [
       "Index(['country', 'description', 'designation', 'points', 'price', 'province',\n",
       "       'region_1', 'region_2', 'variety', 'winery'],\n",
       "      dtype='object')"
      ]
     },
     "execution_count": 4,
     "metadata": {},
     "output_type": "execute_result"
    }
   ],
   "source": [
    "wine.columns"
   ]
  },
  {
   "attachments": {},
   "cell_type": "markdown",
   "metadata": {},
   "source": [
    "Let's select price."
   ]
  },
  {
   "cell_type": "code",
   "execution_count": 8,
   "metadata": {},
   "outputs": [],
   "source": [
    "price = wine.loc[:, 'price']"
   ]
  },
  {
   "attachments": {},
   "cell_type": "markdown",
   "metadata": {},
   "source": [
    "We can quickly see some metrics of the price, using some built-in aggregating functions in pandas."
   ]
  },
  {
   "cell_type": "code",
   "execution_count": 11,
   "metadata": {},
   "outputs": [
    {
     "data": {
      "text/plain": [
       "0         235.0\n",
       "1         110.0\n",
       "2          90.0\n",
       "3          65.0\n",
       "4          66.0\n",
       "          ...  \n",
       "150925     20.0\n",
       "150926     27.0\n",
       "150927     20.0\n",
       "150928     52.0\n",
       "150929     15.0\n",
       "Name: price, Length: 150930, dtype: float64"
      ]
     },
     "execution_count": 11,
     "metadata": {},
     "output_type": "execute_result"
    }
   ],
   "source": [
    "price"
   ]
  },
  {
   "attachments": {},
   "cell_type": "markdown",
   "metadata": {},
   "source": [
    "And some more advanced metrics...\n",
    "\n",
    "We can see how many times each country appears in the datast (called a value count)"
   ]
  },
  {
   "cell_type": "code",
   "execution_count": 13,
   "metadata": {
    "scrolled": true
   },
   "outputs": [
    {
     "data": {
      "text/plain": [
       "country\n",
       "US                        62397\n",
       "Italy                     23478\n",
       "France                    21098\n",
       "Spain                      8268\n",
       "Chile                      5816\n",
       "Argentina                  5631\n",
       "Portugal                   5322\n",
       "Australia                  4957\n",
       "New Zealand                3320\n",
       "Austria                    3057\n",
       "Germany                    2452\n",
       "South Africa               2258\n",
       "Greece                      884\n",
       "Israel                      630\n",
       "Hungary                     231\n",
       "Canada                      196\n",
       "Romania                     139\n",
       "Slovenia                     94\n",
       "Uruguay                      92\n",
       "Croatia                      89\n",
       "Bulgaria                     77\n",
       "Moldova                      71\n",
       "Mexico                       63\n",
       "Turkey                       52\n",
       "Georgia                      43\n",
       "Lebanon                      37\n",
       "Cyprus                       31\n",
       "Brazil                       25\n",
       "Macedonia                    16\n",
       "Serbia                       14\n",
       "Morocco                      12\n",
       "Luxembourg                    9\n",
       "England                       9\n",
       "Lithuania                     8\n",
       "India                         8\n",
       "Czech Republic                6\n",
       "Ukraine                       5\n",
       "South Korea                   4\n",
       "Switzerland                   4\n",
       "Bosnia and Herzegovina        4\n",
       "Slovakia                      3\n",
       "Egypt                         3\n",
       "China                         3\n",
       "Montenegro                    2\n",
       "Tunisia                       2\n",
       "Japan                         2\n",
       "Albania                       2\n",
       "US-France                     1\n",
       "dtype: int64"
      ]
     },
     "execution_count": 13,
     "metadata": {},
     "output_type": "execute_result"
    }
   ],
   "source": [
    "wine.value_counts('country')"
   ]
  },
  {
   "attachments": {},
   "cell_type": "markdown",
   "metadata": {},
   "source": [
    "What if we want to see this list in the opposite order?"
   ]
  },
  {
   "cell_type": "code",
   "execution_count": 14,
   "metadata": {
    "scrolled": true
   },
   "outputs": [
    {
     "data": {
      "text/plain": [
       "country\n",
       "US-France                     1\n",
       "Albania                       2\n",
       "Tunisia                       2\n",
       "Montenegro                    2\n",
       "Japan                         2\n",
       "Slovakia                      3\n",
       "China                         3\n",
       "Egypt                         3\n",
       "Switzerland                   4\n",
       "South Korea                   4\n",
       "Bosnia and Herzegovina        4\n",
       "Ukraine                       5\n",
       "Czech Republic                6\n",
       "Lithuania                     8\n",
       "India                         8\n",
       "Luxembourg                    9\n",
       "England                       9\n",
       "Morocco                      12\n",
       "Serbia                       14\n",
       "Macedonia                    16\n",
       "Brazil                       25\n",
       "Cyprus                       31\n",
       "Lebanon                      37\n",
       "Georgia                      43\n",
       "Turkey                       52\n",
       "Mexico                       63\n",
       "Moldova                      71\n",
       "Bulgaria                     77\n",
       "Croatia                      89\n",
       "Uruguay                      92\n",
       "Slovenia                     94\n",
       "Romania                     139\n",
       "Canada                      196\n",
       "Hungary                     231\n",
       "Israel                      630\n",
       "Greece                      884\n",
       "South Africa               2258\n",
       "Germany                    2452\n",
       "Austria                    3057\n",
       "New Zealand                3320\n",
       "Australia                  4957\n",
       "Portugal                   5322\n",
       "Argentina                  5631\n",
       "Chile                      5816\n",
       "Spain                      8268\n",
       "France                    21098\n",
       "Italy                     23478\n",
       "US                        62397\n",
       "dtype: int64"
      ]
     },
     "execution_count": 14,
     "metadata": {},
     "output_type": "execute_result"
    }
   ],
   "source": [
    "wine.value_counts('country', ascending=True)"
   ]
  },
  {
   "attachments": {},
   "cell_type": "markdown",
   "metadata": {},
   "source": [
    "This list is too long. What if we only want to see the top 10 countries?\n",
    "We can string together the other selectors we learned before!\n",
    "\n",
    "Can you think of another way to get the top 10 rows?"
   ]
  },
  {
   "cell_type": "code",
   "execution_count": 16,
   "metadata": {},
   "outputs": [
    {
     "data": {
      "text/plain": [
       "country\n",
       "US             62397\n",
       "Italy          23478\n",
       "France         21098\n",
       "Spain           8268\n",
       "Chile           5816\n",
       "Argentina       5631\n",
       "Portugal        5322\n",
       "Australia       4957\n",
       "New Zealand     3320\n",
       "Austria         3057\n",
       "dtype: int64"
      ]
     },
     "execution_count": 16,
     "metadata": {},
     "output_type": "execute_result"
    }
   ],
   "source": [
    "wine.value_counts('country')[:10]"
   ]
  },
  {
   "cell_type": "code",
   "execution_count": null,
   "metadata": {},
   "outputs": [],
   "source": []
  },
  {
   "attachments": {},
   "cell_type": "markdown",
   "metadata": {},
   "source": [
    "What's the difference between `.value_counts()` and `.count()`?"
   ]
  },
  {
   "cell_type": "code",
   "execution_count": 18,
   "metadata": {},
   "outputs": [
    {
     "data": {
      "text/plain": [
       "country        150925\n",
       "description    150930\n",
       "designation    105195\n",
       "points         150930\n",
       "price          137235\n",
       "province       150925\n",
       "region_1       125870\n",
       "region_2        60953\n",
       "variety        150930\n",
       "winery         150930\n",
       "dtype: int64"
      ]
     },
     "execution_count": 18,
     "metadata": {},
     "output_type": "execute_result"
    }
   ],
   "source": [
    "wine.count()"
   ]
  },
  {
   "attachments": {},
   "cell_type": "markdown",
   "metadata": {},
   "source": [
    "What if we just want to know how many countries are on the list?"
   ]
  },
  {
   "cell_type": "code",
   "execution_count": 24,
   "metadata": {},
   "outputs": [
    {
     "data": {
      "text/plain": [
       "48"
      ]
     },
     "execution_count": 24,
     "metadata": {},
     "output_type": "execute_result"
    }
   ],
   "source": [
    "# Number of non-null unique values\n",
    "wine.value_counts('country').size"
   ]
  },
  {
   "attachments": {},
   "cell_type": "markdown",
   "metadata": {},
   "source": [
    "And if we want a list of them? \n",
    "(This isn't a pandas thing, but is still super useful:)"
   ]
  },
  {
   "cell_type": "code",
   "execution_count": 68,
   "metadata": {},
   "outputs": [
    {
     "data": {
      "text/plain": [
       "{'Albania',\n",
       " 'Argentina',\n",
       " 'Australia',\n",
       " 'Austria',\n",
       " 'Bosnia and Herzegovina',\n",
       " 'Brazil',\n",
       " 'Bulgaria',\n",
       " 'Canada',\n",
       " 'Chile',\n",
       " 'China',\n",
       " 'Croatia',\n",
       " 'Cyprus',\n",
       " 'Czech Republic',\n",
       " 'Egypt',\n",
       " 'England',\n",
       " 'France',\n",
       " 'Georgia',\n",
       " 'Germany',\n",
       " 'Greece',\n",
       " 'Hungary',\n",
       " 'India',\n",
       " 'Israel',\n",
       " 'Italy',\n",
       " 'Japan',\n",
       " 'Lebanon',\n",
       " 'Lithuania',\n",
       " 'Luxembourg',\n",
       " 'Macedonia',\n",
       " 'Mexico',\n",
       " 'Moldova',\n",
       " 'Montenegro',\n",
       " 'Morocco',\n",
       " 'New Zealand',\n",
       " 'Portugal',\n",
       " 'Romania',\n",
       " 'Serbia',\n",
       " 'Slovakia',\n",
       " 'Slovenia',\n",
       " 'South Africa',\n",
       " 'South Korea',\n",
       " 'Spain',\n",
       " 'Switzerland',\n",
       " 'Tunisia',\n",
       " 'Turkey',\n",
       " 'US',\n",
       " 'US-France',\n",
       " 'Ukraine',\n",
       " 'Uruguay',\n",
       " nan}"
      ]
     },
     "execution_count": 68,
     "metadata": {},
     "output_type": "execute_result"
    }
   ],
   "source": [
    "# Gives all unique values\n",
    "wine.loc[:, 'country'].unique().tolist()\n",
    "set(wine.country)"
   ]
  },
  {
   "attachments": {},
   "cell_type": "markdown",
   "metadata": {},
   "source": [
    "You can look [here](https://www.shanelynn.ie/summarising-aggregation-and-grouping-data-in-python-pandas/) for a list of all the built-in pandas stats."
   ]
  },
  {
   "attachments": {},
   "cell_type": "markdown",
   "metadata": {},
   "source": [
    "Remember, for quick calculation of summary statistics we can use `df.describe()`. This quickly calculates some of these stats for the numeric columns in the df."
   ]
  },
  {
   "cell_type": "code",
   "execution_count": null,
   "metadata": {},
   "outputs": [],
   "source": []
  },
  {
   "attachments": {},
   "cell_type": "markdown",
   "metadata": {},
   "source": [
    "**Question**: Why are only 2 of the columns included?"
   ]
  },
  {
   "cell_type": "code",
   "execution_count": null,
   "metadata": {},
   "outputs": [],
   "source": []
  },
  {
   "attachments": {},
   "cell_type": "markdown",
   "metadata": {},
   "source": [
    "### Conditional Selections \n",
    "We can use conditional selections to narrow our analysis even further.\n",
    "\n",
    "DON'T FORGET - to make things easier, we can save selections we plan to use often as their own variables."
   ]
  },
  {
   "cell_type": "code",
   "execution_count": null,
   "metadata": {},
   "outputs": [],
   "source": []
  },
  {
   "attachments": {},
   "cell_type": "markdown",
   "metadata": {},
   "source": [
    "Let's compare the difference in average price between US wines, French wines, and all the wines in our complete dataset."
   ]
  },
  {
   "cell_type": "code",
   "execution_count": 66,
   "metadata": {},
   "outputs": [
    {
     "name": "stdout",
     "output_type": "stream",
     "text": [
      "US ave: 33.65380839730282\n",
      "France ave: 45.61988501859993\n",
      "Other ave: 29.53184327900383\n"
     ]
    }
   ],
   "source": [
    "# calculating average wine prices \n",
    "us_mask = wine.loc[: , 'country'] == 'US'\n",
    "fr_mask = wine.loc[: , 'country'] == 'France'\n",
    "\n",
    "us_ave = wine.loc[us_mask, 'price'].mean()\n",
    "fr_ave = wine.loc[fr_mask, 'price'].mean()\n",
    "\n",
    "other_ave = wine.loc[~us_mask & ~fr_mask , 'price'].mean()\n",
    "\n",
    "# printing prices\n",
    "print(f'US ave: {us_ave}')\n",
    "print(f'France ave: {fr_ave}')\n",
    "print(f'Other ave: {other_ave}')\n"
   ]
  },
  {
   "attachments": {},
   "cell_type": "markdown",
   "metadata": {},
   "source": [
    "We can then use these to calculate more targeted metrics."
   ]
  },
  {
   "cell_type": "code",
   "execution_count": null,
   "metadata": {},
   "outputs": [],
   "source": []
  },
  {
   "attachments": {},
   "cell_type": "markdown",
   "metadata": {},
   "source": [
    "#### More advanced conditionals: Using masks\n",
    "What if we want to filter on more than one criteria? \n",
    "\n",
    "When you want to filter on >1 criteria, it can be easier to use a mask.\n",
    "\n",
    "How many wines from North America do we have on our list?"
   ]
  },
  {
   "cell_type": "code",
   "execution_count": 81,
   "metadata": {},
   "outputs": [
    {
     "data": {
      "text/html": [
       "<div>\n",
       "<style scoped>\n",
       "    .dataframe tbody tr th:only-of-type {\n",
       "        vertical-align: middle;\n",
       "    }\n",
       "\n",
       "    .dataframe tbody tr th {\n",
       "        vertical-align: top;\n",
       "    }\n",
       "\n",
       "    .dataframe thead th {\n",
       "        text-align: right;\n",
       "    }\n",
       "</style>\n",
       "<table border=\"1\" class=\"dataframe\">\n",
       "  <thead>\n",
       "    <tr style=\"text-align: right;\">\n",
       "      <th></th>\n",
       "      <th>country</th>\n",
       "      <th>description</th>\n",
       "      <th>designation</th>\n",
       "      <th>points</th>\n",
       "      <th>price</th>\n",
       "      <th>province</th>\n",
       "      <th>region_1</th>\n",
       "      <th>region_2</th>\n",
       "      <th>variety</th>\n",
       "      <th>winery</th>\n",
       "    </tr>\n",
       "  </thead>\n",
       "  <tbody>\n",
       "    <tr>\n",
       "      <th>0</th>\n",
       "      <td>US</td>\n",
       "      <td>This tremendous 100% varietal wine hails from ...</td>\n",
       "      <td>Martha's Vineyard</td>\n",
       "      <td>96</td>\n",
       "      <td>235.0</td>\n",
       "      <td>California</td>\n",
       "      <td>Napa Valley</td>\n",
       "      <td>Napa</td>\n",
       "      <td>Cabernet Sauvignon</td>\n",
       "      <td>Heitz</td>\n",
       "    </tr>\n",
       "    <tr>\n",
       "      <th>2</th>\n",
       "      <td>US</td>\n",
       "      <td>Mac Watson honors the memory of a wine once ma...</td>\n",
       "      <td>Special Selected Late Harvest</td>\n",
       "      <td>96</td>\n",
       "      <td>90.0</td>\n",
       "      <td>California</td>\n",
       "      <td>Knights Valley</td>\n",
       "      <td>Sonoma</td>\n",
       "      <td>Sauvignon Blanc</td>\n",
       "      <td>Macauley</td>\n",
       "    </tr>\n",
       "    <tr>\n",
       "      <th>3</th>\n",
       "      <td>US</td>\n",
       "      <td>This spent 20 months in 30% new French oak, an...</td>\n",
       "      <td>Reserve</td>\n",
       "      <td>96</td>\n",
       "      <td>65.0</td>\n",
       "      <td>Oregon</td>\n",
       "      <td>Willamette Valley</td>\n",
       "      <td>Willamette Valley</td>\n",
       "      <td>Pinot Noir</td>\n",
       "      <td>Ponzi</td>\n",
       "    </tr>\n",
       "    <tr>\n",
       "      <th>8</th>\n",
       "      <td>US</td>\n",
       "      <td>This re-named vineyard was formerly bottled as...</td>\n",
       "      <td>Silice</td>\n",
       "      <td>95</td>\n",
       "      <td>65.0</td>\n",
       "      <td>Oregon</td>\n",
       "      <td>Chehalem Mountains</td>\n",
       "      <td>Willamette Valley</td>\n",
       "      <td>Pinot Noir</td>\n",
       "      <td>Bergström</td>\n",
       "    </tr>\n",
       "    <tr>\n",
       "      <th>9</th>\n",
       "      <td>US</td>\n",
       "      <td>The producer sources from two blocks of the vi...</td>\n",
       "      <td>Gap's Crown Vineyard</td>\n",
       "      <td>95</td>\n",
       "      <td>60.0</td>\n",
       "      <td>California</td>\n",
       "      <td>Sonoma Coast</td>\n",
       "      <td>Sonoma</td>\n",
       "      <td>Pinot Noir</td>\n",
       "      <td>Blue Farm</td>\n",
       "    </tr>\n",
       "    <tr>\n",
       "      <th>...</th>\n",
       "      <td>...</td>\n",
       "      <td>...</td>\n",
       "      <td>...</td>\n",
       "      <td>...</td>\n",
       "      <td>...</td>\n",
       "      <td>...</td>\n",
       "      <td>...</td>\n",
       "      <td>...</td>\n",
       "      <td>...</td>\n",
       "      <td>...</td>\n",
       "    </tr>\n",
       "    <tr>\n",
       "      <th>150892</th>\n",
       "      <td>US</td>\n",
       "      <td>A light, earthy wine, with violet, berry and t...</td>\n",
       "      <td>Coastal</td>\n",
       "      <td>82</td>\n",
       "      <td>10.0</td>\n",
       "      <td>California</td>\n",
       "      <td>California</td>\n",
       "      <td>California Other</td>\n",
       "      <td>Merlot</td>\n",
       "      <td>Callaway</td>\n",
       "    </tr>\n",
       "    <tr>\n",
       "      <th>150896</th>\n",
       "      <td>US</td>\n",
       "      <td>Some raspberry fruit in the aroma, but things ...</td>\n",
       "      <td>NaN</td>\n",
       "      <td>82</td>\n",
       "      <td>10.0</td>\n",
       "      <td>California</td>\n",
       "      <td>California</td>\n",
       "      <td>California Other</td>\n",
       "      <td>Pinot Noir</td>\n",
       "      <td>Camelot</td>\n",
       "    </tr>\n",
       "    <tr>\n",
       "      <th>150914</th>\n",
       "      <td>US</td>\n",
       "      <td>Old-gold in color, and thick and syrupy. The a...</td>\n",
       "      <td>Late Harvest Cluster Select</td>\n",
       "      <td>94</td>\n",
       "      <td>25.0</td>\n",
       "      <td>California</td>\n",
       "      <td>Anderson Valley</td>\n",
       "      <td>Mendocino/Lake Counties</td>\n",
       "      <td>White Riesling</td>\n",
       "      <td>Navarro</td>\n",
       "    </tr>\n",
       "    <tr>\n",
       "      <th>150915</th>\n",
       "      <td>US</td>\n",
       "      <td>Decades ago, Beringer’s then-winemaker Myron N...</td>\n",
       "      <td>Nightingale</td>\n",
       "      <td>93</td>\n",
       "      <td>30.0</td>\n",
       "      <td>California</td>\n",
       "      <td>North Coast</td>\n",
       "      <td>North Coast</td>\n",
       "      <td>White Blend</td>\n",
       "      <td>Beringer</td>\n",
       "    </tr>\n",
       "    <tr>\n",
       "      <th>150916</th>\n",
       "      <td>US</td>\n",
       "      <td>An impressive wine that presents a full bouque...</td>\n",
       "      <td>J. Schram</td>\n",
       "      <td>93</td>\n",
       "      <td>65.0</td>\n",
       "      <td>California</td>\n",
       "      <td>Napa Valley</td>\n",
       "      <td>Napa</td>\n",
       "      <td>Champagne Blend</td>\n",
       "      <td>Schramsberg</td>\n",
       "    </tr>\n",
       "  </tbody>\n",
       "</table>\n",
       "<p>62656 rows × 10 columns</p>\n",
       "</div>"
      ],
      "text/plain": [
       "       country                                        description  \\\n",
       "0           US  This tremendous 100% varietal wine hails from ...   \n",
       "2           US  Mac Watson honors the memory of a wine once ma...   \n",
       "3           US  This spent 20 months in 30% new French oak, an...   \n",
       "8           US  This re-named vineyard was formerly bottled as...   \n",
       "9           US  The producer sources from two blocks of the vi...   \n",
       "...        ...                                                ...   \n",
       "150892      US  A light, earthy wine, with violet, berry and t...   \n",
       "150896      US  Some raspberry fruit in the aroma, but things ...   \n",
       "150914      US  Old-gold in color, and thick and syrupy. The a...   \n",
       "150915      US  Decades ago, Beringer’s then-winemaker Myron N...   \n",
       "150916      US  An impressive wine that presents a full bouque...   \n",
       "\n",
       "                          designation  points  price    province  \\\n",
       "0                   Martha's Vineyard      96  235.0  California   \n",
       "2       Special Selected Late Harvest      96   90.0  California   \n",
       "3                             Reserve      96   65.0      Oregon   \n",
       "8                              Silice      95   65.0      Oregon   \n",
       "9                Gap's Crown Vineyard      95   60.0  California   \n",
       "...                               ...     ...    ...         ...   \n",
       "150892                        Coastal      82   10.0  California   \n",
       "150896                            NaN      82   10.0  California   \n",
       "150914    Late Harvest Cluster Select      94   25.0  California   \n",
       "150915                    Nightingale      93   30.0  California   \n",
       "150916                      J. Schram      93   65.0  California   \n",
       "\n",
       "                  region_1                 region_2             variety  \\\n",
       "0              Napa Valley                     Napa  Cabernet Sauvignon   \n",
       "2           Knights Valley                   Sonoma     Sauvignon Blanc   \n",
       "3        Willamette Valley        Willamette Valley          Pinot Noir   \n",
       "8       Chehalem Mountains        Willamette Valley          Pinot Noir   \n",
       "9             Sonoma Coast                   Sonoma          Pinot Noir   \n",
       "...                    ...                      ...                 ...   \n",
       "150892          California         California Other              Merlot   \n",
       "150896          California         California Other          Pinot Noir   \n",
       "150914     Anderson Valley  Mendocino/Lake Counties      White Riesling   \n",
       "150915         North Coast              North Coast         White Blend   \n",
       "150916         Napa Valley                     Napa     Champagne Blend   \n",
       "\n",
       "             winery  \n",
       "0             Heitz  \n",
       "2          Macauley  \n",
       "3             Ponzi  \n",
       "8         Bergström  \n",
       "9         Blue Farm  \n",
       "...             ...  \n",
       "150892     Callaway  \n",
       "150896      Camelot  \n",
       "150914      Navarro  \n",
       "150915     Beringer  \n",
       "150916  Schramsberg  \n",
       "\n",
       "[62656 rows x 10 columns]"
      ]
     },
     "execution_count": 81,
     "metadata": {},
     "output_type": "execute_result"
    }
   ],
   "source": [
    "na_mask = (wine.country =='US') | (wine.country == 'Canada' )| (wine.country =='Mexico')\n",
    "na = wine.loc[na_mask]\n",
    "# or\n",
    "na"
   ]
  },
  {
   "cell_type": "code",
   "execution_count": null,
   "metadata": {},
   "outputs": [],
   "source": []
  },
  {
   "cell_type": "code",
   "execution_count": null,
   "metadata": {},
   "outputs": [],
   "source": []
  },
  {
   "attachments": {},
   "cell_type": "markdown",
   "metadata": {},
   "source": [
    "How many wines do we have total in the in North America?"
   ]
  },
  {
   "cell_type": "code",
   "execution_count": 87,
   "metadata": {},
   "outputs": [
    {
     "data": {
      "text/plain": [
       "62656"
      ]
     },
     "execution_count": 87,
     "metadata": {},
     "output_type": "execute_result"
    }
   ],
   "source": [
    "# taking one of the columns that had no null values to get \"real\" count\n",
    "na.loc[:, 'description'].count()"
   ]
  },
  {
   "attachments": {},
   "cell_type": "markdown",
   "metadata": {},
   "source": [
    "**Question**: How many of the wines belong to each country?\n",
    "\n"
   ]
  },
  {
   "cell_type": "code",
   "execution_count": 88,
   "metadata": {},
   "outputs": [
    {
     "data": {
      "text/plain": [
       "US        62397\n",
       "Canada      196\n",
       "Mexico       63\n",
       "Name: country, dtype: int64"
      ]
     },
     "execution_count": 88,
     "metadata": {},
     "output_type": "execute_result"
    }
   ],
   "source": [
    "na.loc[:, 'country'].value_counts()"
   ]
  },
  {
   "attachments": {},
   "cell_type": "markdown",
   "metadata": {},
   "source": [
    "**Question**: From which US state do most of our wines come?"
   ]
  },
  {
   "cell_type": "code",
   "execution_count": 90,
   "metadata": {},
   "outputs": [
    {
     "data": {
      "text/plain": [
       "California           44508\n",
       "Washington            9750\n",
       "Oregon                4589\n",
       "New York              2428\n",
       "Virginia               515\n",
       "Idaho                  136\n",
       "New Mexico              95\n",
       "Missouri                60\n",
       "Pennsylvania            50\n",
       "Texas                   41\n",
       "Arizona                 39\n",
       "Ohio                    34\n",
       "Colorado                30\n",
       "America                 27\n",
       "Michigan                25\n",
       "New Jersey              24\n",
       "North Carolina          20\n",
       "Massachusetts           10\n",
       "Iowa                     4\n",
       "Kentucky                 4\n",
       "Washington-Oregon        3\n",
       "Vermont                  2\n",
       "Connecticut              2\n",
       "Nevada                   1\n",
       "Name: province, dtype: int64"
      ]
     },
     "execution_count": 90,
     "metadata": {},
     "output_type": "execute_result"
    }
   ],
   "source": [
    "wine.loc[us_mask, 'province'].value_counts()"
   ]
  },
  {
   "attachments": {},
   "cell_type": "markdown",
   "metadata": {},
   "source": [
    "## Groupby\n",
    "One of the most flexible ways to aggregate in pandas is with .groupby() .\n",
    "We will look at how this works for categorical datasets like this one, and also for datetime datasets, as dealing with datetimes in pandas can be tricky."
   ]
  },
  {
   "cell_type": "code",
   "execution_count": 91,
   "metadata": {},
   "outputs": [],
   "source": [
    "import matplotlib.pyplot as plt\n",
    "%matplotlib inline"
   ]
  },
  {
   "attachments": {},
   "cell_type": "markdown",
   "metadata": {},
   "source": [
    "### How Groupby Works:\n",
    "You can group your data in many different ways, and also aggregate it by any of the aggregators we saw before: like mean, mode, sum, etc.\n",
    "\n",
    "**The column that you put in the parentheses of the groupby function call will become your new index in the dataframe that is returned by groupby!!**\n",
    "\n",
    "For example, in `wine.groupby('country')`, `country` will bee the new index. Let's see how this looks in practice:"
   ]
  },
  {
   "cell_type": "code",
   "execution_count": 95,
   "metadata": {
    "scrolled": true
   },
   "outputs": [
    {
     "name": "stderr",
     "output_type": "stream",
     "text": [
      "/tmp/ipykernel_350234/310658323.py:1: FutureWarning: The default value of numeric_only in DataFrameGroupBy.mean is deprecated. In a future version, numeric_only will default to False. Either specify numeric_only or select only columns which should be valid for the function.\n",
      "  wine.groupby('country').mean().sort_values(by=['points', 'price'], ascending=False)\n"
     ]
    },
    {
     "data": {
      "text/html": [
       "<div>\n",
       "<style scoped>\n",
       "    .dataframe tbody tr th:only-of-type {\n",
       "        vertical-align: middle;\n",
       "    }\n",
       "\n",
       "    .dataframe tbody tr th {\n",
       "        vertical-align: top;\n",
       "    }\n",
       "\n",
       "    .dataframe thead th {\n",
       "        text-align: right;\n",
       "    }\n",
       "</style>\n",
       "<table border=\"1\" class=\"dataframe\">\n",
       "  <thead>\n",
       "    <tr style=\"text-align: right;\">\n",
       "      <th></th>\n",
       "      <th>points</th>\n",
       "      <th>price</th>\n",
       "    </tr>\n",
       "    <tr>\n",
       "      <th>country</th>\n",
       "      <th></th>\n",
       "      <th></th>\n",
       "    </tr>\n",
       "  </thead>\n",
       "  <tbody>\n",
       "    <tr>\n",
       "      <th>England</th>\n",
       "      <td>92.888889</td>\n",
       "      <td>47.500000</td>\n",
       "    </tr>\n",
       "    <tr>\n",
       "      <th>Austria</th>\n",
       "      <td>89.276742</td>\n",
       "      <td>31.192106</td>\n",
       "    </tr>\n",
       "    <tr>\n",
       "      <th>France</th>\n",
       "      <td>88.925870</td>\n",
       "      <td>45.619885</td>\n",
       "    </tr>\n",
       "    <tr>\n",
       "      <th>Germany</th>\n",
       "      <td>88.626427</td>\n",
       "      <td>39.011078</td>\n",
       "    </tr>\n",
       "    <tr>\n",
       "      <th>Italy</th>\n",
       "      <td>88.413664</td>\n",
       "      <td>37.547913</td>\n",
       "    </tr>\n",
       "    <tr>\n",
       "      <th>Canada</th>\n",
       "      <td>88.239796</td>\n",
       "      <td>34.628866</td>\n",
       "    </tr>\n",
       "    <tr>\n",
       "      <th>Slovenia</th>\n",
       "      <td>88.234043</td>\n",
       "      <td>28.061728</td>\n",
       "    </tr>\n",
       "    <tr>\n",
       "      <th>Morocco</th>\n",
       "      <td>88.166667</td>\n",
       "      <td>18.833333</td>\n",
       "    </tr>\n",
       "    <tr>\n",
       "      <th>Turkey</th>\n",
       "      <td>88.096154</td>\n",
       "      <td>25.800000</td>\n",
       "    </tr>\n",
       "    <tr>\n",
       "      <th>Portugal</th>\n",
       "      <td>88.057685</td>\n",
       "      <td>26.332615</td>\n",
       "    </tr>\n",
       "    <tr>\n",
       "      <th>US-France</th>\n",
       "      <td>88.000000</td>\n",
       "      <td>50.000000</td>\n",
       "    </tr>\n",
       "    <tr>\n",
       "      <th>Albania</th>\n",
       "      <td>88.000000</td>\n",
       "      <td>20.000000</td>\n",
       "    </tr>\n",
       "    <tr>\n",
       "      <th>Australia</th>\n",
       "      <td>87.892475</td>\n",
       "      <td>31.258480</td>\n",
       "    </tr>\n",
       "    <tr>\n",
       "      <th>US</th>\n",
       "      <td>87.818789</td>\n",
       "      <td>33.653808</td>\n",
       "    </tr>\n",
       "    <tr>\n",
       "      <th>Serbia</th>\n",
       "      <td>87.714286</td>\n",
       "      <td>24.285714</td>\n",
       "    </tr>\n",
       "    <tr>\n",
       "      <th>India</th>\n",
       "      <td>87.625000</td>\n",
       "      <td>13.875000</td>\n",
       "    </tr>\n",
       "    <tr>\n",
       "      <th>New Zealand</th>\n",
       "      <td>87.554217</td>\n",
       "      <td>24.173290</td>\n",
       "    </tr>\n",
       "    <tr>\n",
       "      <th>Hungary</th>\n",
       "      <td>87.329004</td>\n",
       "      <td>44.204348</td>\n",
       "    </tr>\n",
       "    <tr>\n",
       "      <th>Switzerland</th>\n",
       "      <td>87.250000</td>\n",
       "      <td>26.500000</td>\n",
       "    </tr>\n",
       "    <tr>\n",
       "      <th>South Africa</th>\n",
       "      <td>87.225421</td>\n",
       "      <td>21.130532</td>\n",
       "    </tr>\n",
       "    <tr>\n",
       "      <th>Israel</th>\n",
       "      <td>87.176190</td>\n",
       "      <td>31.304918</td>\n",
       "    </tr>\n",
       "    <tr>\n",
       "      <th>Luxembourg</th>\n",
       "      <td>87.000000</td>\n",
       "      <td>40.666667</td>\n",
       "    </tr>\n",
       "    <tr>\n",
       "      <th>Spain</th>\n",
       "      <td>86.646589</td>\n",
       "      <td>27.048529</td>\n",
       "    </tr>\n",
       "    <tr>\n",
       "      <th>Chile</th>\n",
       "      <td>86.296768</td>\n",
       "      <td>19.344780</td>\n",
       "    </tr>\n",
       "    <tr>\n",
       "      <th>Croatia</th>\n",
       "      <td>86.280899</td>\n",
       "      <td>23.108434</td>\n",
       "    </tr>\n",
       "    <tr>\n",
       "      <th>Greece</th>\n",
       "      <td>86.117647</td>\n",
       "      <td>21.747706</td>\n",
       "    </tr>\n",
       "    <tr>\n",
       "      <th>Tunisia</th>\n",
       "      <td>86.000000</td>\n",
       "      <td>NaN</td>\n",
       "    </tr>\n",
       "    <tr>\n",
       "      <th>Argentina</th>\n",
       "      <td>85.996093</td>\n",
       "      <td>20.794881</td>\n",
       "    </tr>\n",
       "    <tr>\n",
       "      <th>Cyprus</th>\n",
       "      <td>85.870968</td>\n",
       "      <td>15.483871</td>\n",
       "    </tr>\n",
       "    <tr>\n",
       "      <th>Czech Republic</th>\n",
       "      <td>85.833333</td>\n",
       "      <td>18.000000</td>\n",
       "    </tr>\n",
       "    <tr>\n",
       "      <th>Lebanon</th>\n",
       "      <td>85.702703</td>\n",
       "      <td>25.432432</td>\n",
       "    </tr>\n",
       "    <tr>\n",
       "      <th>Georgia</th>\n",
       "      <td>85.511628</td>\n",
       "      <td>18.581395</td>\n",
       "    </tr>\n",
       "    <tr>\n",
       "      <th>Bulgaria</th>\n",
       "      <td>85.467532</td>\n",
       "      <td>11.545455</td>\n",
       "    </tr>\n",
       "    <tr>\n",
       "      <th>Japan</th>\n",
       "      <td>85.000000</td>\n",
       "      <td>24.000000</td>\n",
       "    </tr>\n",
       "    <tr>\n",
       "      <th>Romania</th>\n",
       "      <td>84.920863</td>\n",
       "      <td>16.395683</td>\n",
       "    </tr>\n",
       "    <tr>\n",
       "      <th>Macedonia</th>\n",
       "      <td>84.812500</td>\n",
       "      <td>15.312500</td>\n",
       "    </tr>\n",
       "    <tr>\n",
       "      <th>Mexico</th>\n",
       "      <td>84.761905</td>\n",
       "      <td>29.095238</td>\n",
       "    </tr>\n",
       "    <tr>\n",
       "      <th>Bosnia and Herzegovina</th>\n",
       "      <td>84.750000</td>\n",
       "      <td>12.750000</td>\n",
       "    </tr>\n",
       "    <tr>\n",
       "      <th>Moldova</th>\n",
       "      <td>84.718310</td>\n",
       "      <td>15.366197</td>\n",
       "    </tr>\n",
       "    <tr>\n",
       "      <th>Ukraine</th>\n",
       "      <td>84.600000</td>\n",
       "      <td>13.000000</td>\n",
       "    </tr>\n",
       "    <tr>\n",
       "      <th>Uruguay</th>\n",
       "      <td>84.478261</td>\n",
       "      <td>25.847059</td>\n",
       "    </tr>\n",
       "    <tr>\n",
       "      <th>Lithuania</th>\n",
       "      <td>84.250000</td>\n",
       "      <td>10.000000</td>\n",
       "    </tr>\n",
       "    <tr>\n",
       "      <th>Slovakia</th>\n",
       "      <td>83.666667</td>\n",
       "      <td>15.333333</td>\n",
       "    </tr>\n",
       "    <tr>\n",
       "      <th>Egypt</th>\n",
       "      <td>83.666667</td>\n",
       "      <td>NaN</td>\n",
       "    </tr>\n",
       "    <tr>\n",
       "      <th>Brazil</th>\n",
       "      <td>83.240000</td>\n",
       "      <td>19.920000</td>\n",
       "    </tr>\n",
       "    <tr>\n",
       "      <th>China</th>\n",
       "      <td>82.000000</td>\n",
       "      <td>20.333333</td>\n",
       "    </tr>\n",
       "    <tr>\n",
       "      <th>Montenegro</th>\n",
       "      <td>82.000000</td>\n",
       "      <td>10.000000</td>\n",
       "    </tr>\n",
       "    <tr>\n",
       "      <th>South Korea</th>\n",
       "      <td>81.500000</td>\n",
       "      <td>13.500000</td>\n",
       "    </tr>\n",
       "  </tbody>\n",
       "</table>\n",
       "</div>"
      ],
      "text/plain": [
       "                           points      price\n",
       "country                                     \n",
       "England                 92.888889  47.500000\n",
       "Austria                 89.276742  31.192106\n",
       "France                  88.925870  45.619885\n",
       "Germany                 88.626427  39.011078\n",
       "Italy                   88.413664  37.547913\n",
       "Canada                  88.239796  34.628866\n",
       "Slovenia                88.234043  28.061728\n",
       "Morocco                 88.166667  18.833333\n",
       "Turkey                  88.096154  25.800000\n",
       "Portugal                88.057685  26.332615\n",
       "US-France               88.000000  50.000000\n",
       "Albania                 88.000000  20.000000\n",
       "Australia               87.892475  31.258480\n",
       "US                      87.818789  33.653808\n",
       "Serbia                  87.714286  24.285714\n",
       "India                   87.625000  13.875000\n",
       "New Zealand             87.554217  24.173290\n",
       "Hungary                 87.329004  44.204348\n",
       "Switzerland             87.250000  26.500000\n",
       "South Africa            87.225421  21.130532\n",
       "Israel                  87.176190  31.304918\n",
       "Luxembourg              87.000000  40.666667\n",
       "Spain                   86.646589  27.048529\n",
       "Chile                   86.296768  19.344780\n",
       "Croatia                 86.280899  23.108434\n",
       "Greece                  86.117647  21.747706\n",
       "Tunisia                 86.000000        NaN\n",
       "Argentina               85.996093  20.794881\n",
       "Cyprus                  85.870968  15.483871\n",
       "Czech Republic          85.833333  18.000000\n",
       "Lebanon                 85.702703  25.432432\n",
       "Georgia                 85.511628  18.581395\n",
       "Bulgaria                85.467532  11.545455\n",
       "Japan                   85.000000  24.000000\n",
       "Romania                 84.920863  16.395683\n",
       "Macedonia               84.812500  15.312500\n",
       "Mexico                  84.761905  29.095238\n",
       "Bosnia and Herzegovina  84.750000  12.750000\n",
       "Moldova                 84.718310  15.366197\n",
       "Ukraine                 84.600000  13.000000\n",
       "Uruguay                 84.478261  25.847059\n",
       "Lithuania               84.250000  10.000000\n",
       "Slovakia                83.666667  15.333333\n",
       "Egypt                   83.666667        NaN\n",
       "Brazil                  83.240000  19.920000\n",
       "China                   82.000000  20.333333\n",
       "Montenegro              82.000000  10.000000\n",
       "South Korea             81.500000  13.500000"
      ]
     },
     "execution_count": 95,
     "metadata": {},
     "output_type": "execute_result"
    }
   ],
   "source": [
    "wine.groupby('country').mean().sort_values(by=['points', 'price'], ascending=False)"
   ]
  },
  {
   "attachments": {},
   "cell_type": "markdown",
   "metadata": {},
   "source": [
    "So, British wine is the highest average ranked?? This is surprising. Maybe we need to look at our data in a different way."
   ]
  },
  {
   "attachments": {},
   "cell_type": "markdown",
   "metadata": {},
   "source": [
    "The beauty of `df.groupby()` is that it lets you aggregate different columns in different ways.\n",
    "\n",
    "Say we want to know the average price of wine in each country, but the _highest_ score:"
   ]
  },
  {
   "cell_type": "code",
   "execution_count": 98,
   "metadata": {
    "scrolled": true
   },
   "outputs": [
    {
     "data": {
      "text/html": [
       "<div>\n",
       "<style scoped>\n",
       "    .dataframe tbody tr th:only-of-type {\n",
       "        vertical-align: middle;\n",
       "    }\n",
       "\n",
       "    .dataframe tbody tr th {\n",
       "        vertical-align: top;\n",
       "    }\n",
       "\n",
       "    .dataframe thead th {\n",
       "        text-align: right;\n",
       "    }\n",
       "</style>\n",
       "<table border=\"1\" class=\"dataframe\">\n",
       "  <thead>\n",
       "    <tr style=\"text-align: right;\">\n",
       "      <th></th>\n",
       "      <th>points</th>\n",
       "      <th>price</th>\n",
       "    </tr>\n",
       "    <tr>\n",
       "      <th>country</th>\n",
       "      <th></th>\n",
       "      <th></th>\n",
       "    </tr>\n",
       "  </thead>\n",
       "  <tbody>\n",
       "    <tr>\n",
       "      <th>Australia</th>\n",
       "      <td>100</td>\n",
       "      <td>31.258480</td>\n",
       "    </tr>\n",
       "    <tr>\n",
       "      <th>US</th>\n",
       "      <td>100</td>\n",
       "      <td>33.653808</td>\n",
       "    </tr>\n",
       "    <tr>\n",
       "      <th>Italy</th>\n",
       "      <td>100</td>\n",
       "      <td>37.547913</td>\n",
       "    </tr>\n",
       "    <tr>\n",
       "      <th>France</th>\n",
       "      <td>100</td>\n",
       "      <td>45.619885</td>\n",
       "    </tr>\n",
       "    <tr>\n",
       "      <th>Portugal</th>\n",
       "      <td>99</td>\n",
       "      <td>26.332615</td>\n",
       "    </tr>\n",
       "  </tbody>\n",
       "</table>\n",
       "</div>"
      ],
      "text/plain": [
       "           points      price\n",
       "country                     \n",
       "Australia     100  31.258480\n",
       "US            100  33.653808\n",
       "Italy         100  37.547913\n",
       "France        100  45.619885\n",
       "Portugal       99  26.332615"
      ]
     },
     "execution_count": 98,
     "metadata": {},
     "output_type": "execute_result"
    }
   ],
   "source": [
    "wine.groupby('country').agg({'points':'max', 'price':'mean'}).sort_values(by=['points', 'price'], ascending=[False, True]).head()"
   ]
  },
  {
   "attachments": {},
   "cell_type": "markdown",
   "metadata": {},
   "source": [
    "**Tip:** Sometimes, fo make your code cleaner it's best to move the aggregations out and store them in their own variable that you can update saparately."
   ]
  },
  {
   "cell_type": "code",
   "execution_count": 109,
   "metadata": {},
   "outputs": [],
   "source": [
    "\n",
    "aggs = {\n",
    "    'price': ['mean', 'std', 'max']\n",
    "}\n",
    "\n",
    "table = wine.groupby('country').agg(aggs)"
   ]
  },
  {
   "attachments": {},
   "cell_type": "markdown",
   "metadata": {},
   "source": [
    "You can also use a list in your aggs to aggergate one column in different ways.\n",
    "\n",
    "This will give a **multi-index**. Multi-indexes can be difficult to sort on. But, there are a few different ways we can deal with this."
   ]
  },
  {
   "cell_type": "code",
   "execution_count": null,
   "metadata": {
    "scrolled": true
   },
   "outputs": [],
   "source": []
  },
  {
   "attachments": {},
   "cell_type": "markdown",
   "metadata": {},
   "source": [
    "One way is by dropping the top level ('price'):"
   ]
  },
  {
   "cell_type": "code",
   "execution_count": 110,
   "metadata": {
    "scrolled": true
   },
   "outputs": [
    {
     "data": {
      "text/html": [
       "<div>\n",
       "<style scoped>\n",
       "    .dataframe tbody tr th:only-of-type {\n",
       "        vertical-align: middle;\n",
       "    }\n",
       "\n",
       "    .dataframe tbody tr th {\n",
       "        vertical-align: top;\n",
       "    }\n",
       "\n",
       "    .dataframe thead th {\n",
       "        text-align: right;\n",
       "    }\n",
       "</style>\n",
       "<table border=\"1\" class=\"dataframe\">\n",
       "  <thead>\n",
       "    <tr style=\"text-align: right;\">\n",
       "      <th></th>\n",
       "      <th>mean</th>\n",
       "      <th>std</th>\n",
       "      <th>max</th>\n",
       "    </tr>\n",
       "    <tr>\n",
       "      <th>country</th>\n",
       "      <th></th>\n",
       "      <th></th>\n",
       "      <th></th>\n",
       "    </tr>\n",
       "  </thead>\n",
       "  <tbody>\n",
       "    <tr>\n",
       "      <th>US-France</th>\n",
       "      <td>50.000000</td>\n",
       "      <td>NaN</td>\n",
       "      <td>50.0</td>\n",
       "    </tr>\n",
       "    <tr>\n",
       "      <th>England</th>\n",
       "      <td>47.500000</td>\n",
       "      <td>11.964232</td>\n",
       "      <td>75.0</td>\n",
       "    </tr>\n",
       "    <tr>\n",
       "      <th>France</th>\n",
       "      <td>45.619885</td>\n",
       "      <td>69.697060</td>\n",
       "      <td>2300.0</td>\n",
       "    </tr>\n",
       "    <tr>\n",
       "      <th>Hungary</th>\n",
       "      <td>44.204348</td>\n",
       "      <td>66.264502</td>\n",
       "      <td>764.0</td>\n",
       "    </tr>\n",
       "    <tr>\n",
       "      <th>Luxembourg</th>\n",
       "      <td>40.666667</td>\n",
       "      <td>7.000000</td>\n",
       "      <td>50.0</td>\n",
       "    </tr>\n",
       "  </tbody>\n",
       "</table>\n",
       "</div>"
      ],
      "text/plain": [
       "                 mean        std     max\n",
       "country                                 \n",
       "US-France   50.000000        NaN    50.0\n",
       "England     47.500000  11.964232    75.0\n",
       "France      45.619885  69.697060  2300.0\n",
       "Hungary     44.204348  66.264502   764.0\n",
       "Luxembourg  40.666667   7.000000    50.0"
      ]
     },
     "execution_count": 110,
     "metadata": {},
     "output_type": "execute_result"
    }
   ],
   "source": [
    "table.columns = table.columns.droplevel(level=0)\n",
    "table.sort_values(by='mean', ascending=False).head()"
   ]
  },
  {
   "attachments": {},
   "cell_type": "markdown",
   "metadata": {},
   "source": [
    "Another way is by using `np.ravel()` . This preserves the \"price\" indicator somewhere in each of the column names."
   ]
  },
  {
   "cell_type": "code",
   "execution_count": 128,
   "metadata": {},
   "outputs": [],
   "source": [
    "# resetting the price table, so that it again has a multi-index\n",
    "aggs = {\n",
    "    'price': ['mean', 'std', 'max'], 'points': 'max'\n",
    "}\n",
    "price_table = wine.groupby('country').agg(aggs)"
   ]
  },
  {
   "cell_type": "code",
   "execution_count": 129,
   "metadata": {},
   "outputs": [
    {
     "data": {
      "text/html": [
       "<div>\n",
       "<style scoped>\n",
       "    .dataframe tbody tr th:only-of-type {\n",
       "        vertical-align: middle;\n",
       "    }\n",
       "\n",
       "    .dataframe tbody tr th {\n",
       "        vertical-align: top;\n",
       "    }\n",
       "\n",
       "    .dataframe thead tr th {\n",
       "        text-align: left;\n",
       "    }\n",
       "\n",
       "    .dataframe thead tr:last-of-type th {\n",
       "        text-align: right;\n",
       "    }\n",
       "</style>\n",
       "<table border=\"1\" class=\"dataframe\">\n",
       "  <thead>\n",
       "    <tr>\n",
       "      <th></th>\n",
       "      <th colspan=\"3\" halign=\"left\">price</th>\n",
       "      <th>points</th>\n",
       "    </tr>\n",
       "    <tr>\n",
       "      <th></th>\n",
       "      <th>mean</th>\n",
       "      <th>std</th>\n",
       "      <th>max</th>\n",
       "      <th>max</th>\n",
       "    </tr>\n",
       "    <tr>\n",
       "      <th>country</th>\n",
       "      <th></th>\n",
       "      <th></th>\n",
       "      <th></th>\n",
       "      <th></th>\n",
       "    </tr>\n",
       "  </thead>\n",
       "  <tbody>\n",
       "    <tr>\n",
       "      <th>Albania</th>\n",
       "      <td>20.000000</td>\n",
       "      <td>0.000000</td>\n",
       "      <td>20.0</td>\n",
       "      <td>88</td>\n",
       "    </tr>\n",
       "    <tr>\n",
       "      <th>Argentina</th>\n",
       "      <td>20.794881</td>\n",
       "      <td>20.186540</td>\n",
       "      <td>250.0</td>\n",
       "      <td>97</td>\n",
       "    </tr>\n",
       "    <tr>\n",
       "      <th>Australia</th>\n",
       "      <td>31.258480</td>\n",
       "      <td>39.008512</td>\n",
       "      <td>850.0</td>\n",
       "      <td>100</td>\n",
       "    </tr>\n",
       "    <tr>\n",
       "      <th>Austria</th>\n",
       "      <td>31.192106</td>\n",
       "      <td>28.540861</td>\n",
       "      <td>1100.0</td>\n",
       "      <td>98</td>\n",
       "    </tr>\n",
       "    <tr>\n",
       "      <th>Bosnia and Herzegovina</th>\n",
       "      <td>12.750000</td>\n",
       "      <td>0.500000</td>\n",
       "      <td>13.0</td>\n",
       "      <td>88</td>\n",
       "    </tr>\n",
       "  </tbody>\n",
       "</table>\n",
       "</div>"
      ],
      "text/plain": [
       "                            price                    points\n",
       "                             mean        std     max    max\n",
       "country                                                    \n",
       "Albania                 20.000000   0.000000    20.0     88\n",
       "Argentina               20.794881  20.186540   250.0     97\n",
       "Australia               31.258480  39.008512   850.0    100\n",
       "Austria                 31.192106  28.540861  1100.0     98\n",
       "Bosnia and Herzegovina  12.750000   0.500000    13.0     88"
      ]
     },
     "execution_count": 129,
     "metadata": {},
     "output_type": "execute_result"
    }
   ],
   "source": [
    "# seeing how the column names are multi-index\n",
    "price_table.head()"
   ]
  },
  {
   "cell_type": "code",
   "execution_count": 130,
   "metadata": {},
   "outputs": [
    {
     "name": "stderr",
     "output_type": "stream",
     "text": [
      "/tmp/ipykernel_350234/3726592893.py:1: FutureWarning: Index.ravel returning ndarray is deprecated; in a future version this will return a view on self.\n",
      "  price_table.columns.ravel()\n"
     ]
    },
    {
     "data": {
      "text/plain": [
       "array([('price', 'mean'), ('price', 'std'), ('price', 'max'),\n",
       "       ('points', 'max')], dtype=object)"
      ]
     },
     "execution_count": 130,
     "metadata": {},
     "output_type": "execute_result"
    }
   ],
   "source": [
    "\n",
    "price_table.columns.ravel()"
   ]
  },
  {
   "cell_type": "code",
   "execution_count": 131,
   "metadata": {},
   "outputs": [
    {
     "name": "stderr",
     "output_type": "stream",
     "text": [
      "/tmp/ipykernel_350234/456114565.py:2: FutureWarning: Index.ravel returning ndarray is deprecated; in a future version this will return a view on self.\n",
      "  price_table.columns = ['_'.join(x) for x in price_table.columns.ravel()]\n"
     ]
    },
    {
     "data": {
      "text/html": [
       "<div>\n",
       "<style scoped>\n",
       "    .dataframe tbody tr th:only-of-type {\n",
       "        vertical-align: middle;\n",
       "    }\n",
       "\n",
       "    .dataframe tbody tr th {\n",
       "        vertical-align: top;\n",
       "    }\n",
       "\n",
       "    .dataframe thead th {\n",
       "        text-align: right;\n",
       "    }\n",
       "</style>\n",
       "<table border=\"1\" class=\"dataframe\">\n",
       "  <thead>\n",
       "    <tr style=\"text-align: right;\">\n",
       "      <th></th>\n",
       "      <th>price_mean</th>\n",
       "      <th>price_std</th>\n",
       "      <th>price_max</th>\n",
       "      <th>points_max</th>\n",
       "    </tr>\n",
       "    <tr>\n",
       "      <th>country</th>\n",
       "      <th></th>\n",
       "      <th></th>\n",
       "      <th></th>\n",
       "      <th></th>\n",
       "    </tr>\n",
       "  </thead>\n",
       "  <tbody>\n",
       "    <tr>\n",
       "      <th>Albania</th>\n",
       "      <td>20.000000</td>\n",
       "      <td>0.000000</td>\n",
       "      <td>20.0</td>\n",
       "      <td>88</td>\n",
       "    </tr>\n",
       "    <tr>\n",
       "      <th>Argentina</th>\n",
       "      <td>20.794881</td>\n",
       "      <td>20.186540</td>\n",
       "      <td>250.0</td>\n",
       "      <td>97</td>\n",
       "    </tr>\n",
       "    <tr>\n",
       "      <th>Australia</th>\n",
       "      <td>31.258480</td>\n",
       "      <td>39.008512</td>\n",
       "      <td>850.0</td>\n",
       "      <td>100</td>\n",
       "    </tr>\n",
       "    <tr>\n",
       "      <th>Austria</th>\n",
       "      <td>31.192106</td>\n",
       "      <td>28.540861</td>\n",
       "      <td>1100.0</td>\n",
       "      <td>98</td>\n",
       "    </tr>\n",
       "    <tr>\n",
       "      <th>Bosnia and Herzegovina</th>\n",
       "      <td>12.750000</td>\n",
       "      <td>0.500000</td>\n",
       "      <td>13.0</td>\n",
       "      <td>88</td>\n",
       "    </tr>\n",
       "  </tbody>\n",
       "</table>\n",
       "</div>"
      ],
      "text/plain": [
       "                        price_mean  price_std  price_max  points_max\n",
       "country                                                             \n",
       "Albania                  20.000000   0.000000       20.0          88\n",
       "Argentina                20.794881  20.186540      250.0          97\n",
       "Australia                31.258480  39.008512      850.0         100\n",
       "Austria                  31.192106  28.540861     1100.0          98\n",
       "Bosnia and Herzegovina   12.750000   0.500000       13.0          88"
      ]
     },
     "execution_count": 131,
     "metadata": {},
     "output_type": "execute_result"
    }
   ],
   "source": [
    "# Using ravel, and a string join, we can create better names for the columns:\n",
    "price_table.columns = ['_'.join(x) for x in price_table.columns.ravel()]\n",
    "price_table.head()\n",
    "# table.sort_values(by='price_mean', ascending=False).head()"
   ]
  },
  {
   "cell_type": "code",
   "execution_count": 127,
   "metadata": {},
   "outputs": [
    {
     "data": {
      "text/html": [
       "<div>\n",
       "<style scoped>\n",
       "    .dataframe tbody tr th:only-of-type {\n",
       "        vertical-align: middle;\n",
       "    }\n",
       "\n",
       "    .dataframe tbody tr th {\n",
       "        vertical-align: top;\n",
       "    }\n",
       "\n",
       "    .dataframe thead th {\n",
       "        text-align: right;\n",
       "    }\n",
       "</style>\n",
       "<table border=\"1\" class=\"dataframe\">\n",
       "  <thead>\n",
       "    <tr style=\"text-align: right;\">\n",
       "      <th></th>\n",
       "      <th>price_mean</th>\n",
       "      <th>price_std</th>\n",
       "      <th>price_max</th>\n",
       "      <th>points_max</th>\n",
       "    </tr>\n",
       "    <tr>\n",
       "      <th>country</th>\n",
       "      <th></th>\n",
       "      <th></th>\n",
       "      <th></th>\n",
       "      <th></th>\n",
       "    </tr>\n",
       "  </thead>\n",
       "  <tbody>\n",
       "    <tr>\n",
       "      <th>Albania</th>\n",
       "      <td>20.000000</td>\n",
       "      <td>0.000000</td>\n",
       "      <td>20.0</td>\n",
       "      <td>88</td>\n",
       "    </tr>\n",
       "    <tr>\n",
       "      <th>Argentina</th>\n",
       "      <td>20.794881</td>\n",
       "      <td>20.186540</td>\n",
       "      <td>250.0</td>\n",
       "      <td>97</td>\n",
       "    </tr>\n",
       "    <tr>\n",
       "      <th>Australia</th>\n",
       "      <td>31.258480</td>\n",
       "      <td>39.008512</td>\n",
       "      <td>850.0</td>\n",
       "      <td>100</td>\n",
       "    </tr>\n",
       "    <tr>\n",
       "      <th>Austria</th>\n",
       "      <td>31.192106</td>\n",
       "      <td>28.540861</td>\n",
       "      <td>1100.0</td>\n",
       "      <td>98</td>\n",
       "    </tr>\n",
       "    <tr>\n",
       "      <th>Bosnia and Herzegovina</th>\n",
       "      <td>12.750000</td>\n",
       "      <td>0.500000</td>\n",
       "      <td>13.0</td>\n",
       "      <td>88</td>\n",
       "    </tr>\n",
       "  </tbody>\n",
       "</table>\n",
       "</div>"
      ],
      "text/plain": [
       "                        price_mean  price_std  price_max  points_max\n",
       "country                                                             \n",
       "Albania                  20.000000   0.000000       20.0          88\n",
       "Argentina                20.794881  20.186540      250.0          97\n",
       "Australia                31.258480  39.008512      850.0         100\n",
       "Austria                  31.192106  28.540861     1100.0          98\n",
       "Bosnia and Herzegovina   12.750000   0.500000       13.0          88"
      ]
     },
     "execution_count": 127,
     "metadata": {},
     "output_type": "execute_result"
    }
   ],
   "source": []
  },
  {
   "attachments": {},
   "cell_type": "markdown",
   "metadata": {},
   "source": [
    "**Question**: Create a quick plot of the number of wines made in each country, from highest to lowest."
   ]
  },
  {
   "cell_type": "code",
   "execution_count": 137,
   "metadata": {},
   "outputs": [
    {
     "data": {
      "text/plain": [
       "<Axes: >"
      ]
     },
     "execution_count": 137,
     "metadata": {},
     "output_type": "execute_result"
    },
    {
     "data": {
      "image/png": "[encoded data removed]",
      "text/plain": [
       "<Figure size 1500x700 with 1 Axes>"
      ]
     },
     "metadata": {},
     "output_type": "display_data"
    }
   ],
   "source": [
    "wine.loc[:, 'country'].value_counts().plot(kind='bar', figsize=(15, 7))"
   ]
  },
  {
   "attachments": {},
   "cell_type": "markdown",
   "metadata": {},
   "source": [
    "## Selecting the max and min values with Index Max and Min\n",
    "In addition to `.max()` and `.min()`, which returns the maximum or minimum values, we can use `.idxmax()` and `.idxmin()` to return the *index* pertaining to the maximum and minimum values. \n",
    "\n",
    "For example, let's use `.idxmax()` to find the country with the highest standard deviation in its prices."
   ]
  },
  {
   "cell_type": "code",
   "execution_count": 141,
   "metadata": {},
   "outputs": [
    {
     "name": "stderr",
     "output_type": "stream",
     "text": [
      "/tmp/ipykernel_350234/933898590.py:1: FutureWarning: The default value of numeric_only in DataFrameGroupBy.std is deprecated. In a future version, numeric_only will default to False. Either specify numeric_only or select only columns which should be valid for the function.\n",
      "  wine.groupby('country').std().idxmax()\n"
     ]
    },
    {
     "data": {
      "text/plain": [
       "points     India\n",
       "price     France\n",
       "dtype: object"
      ]
     },
     "execution_count": 141,
     "metadata": {},
     "output_type": "execute_result"
    }
   ],
   "source": [
    "wine.groupby('country').std().idxmax()"
   ]
  },
  {
   "cell_type": "code",
   "execution_count": 145,
   "metadata": {},
   "outputs": [
    {
     "data": {
      "text/plain": [
       "69.6970600395194"
      ]
     },
     "execution_count": 145,
     "metadata": {},
     "output_type": "execute_result"
    }
   ],
   "source": [
    "price_table.loc[:, 'price_std'].max()"
   ]
  },
  {
   "attachments": {},
   "cell_type": "markdown",
   "metadata": {},
   "source": [
    "# Dealing with datetime in Pandas\n",
    "Pandas built off the datetime package in Python to offer a datetime index, and plenty of ways to work with this.\n",
    "However, it is still far from intuitive. \n",
    "That doesn't mean it's not useful, and for anyone doing a timeseries project, you'll need to deal with dates and times in pandas often.\n",
    "\n",
    "Let's load a sample dataset of datetime energy data and get started!"
   ]
  },
  {
   "cell_type": "code",
   "execution_count": 146,
   "metadata": {},
   "outputs": [],
   "source": [
    "energy = pd.read_csv('data/energy/PJM_Load_hourly.csv', parse_dates=True, index_col=0)"
   ]
  },
  {
   "attachments": {},
   "cell_type": "markdown",
   "metadata": {},
   "source": [
    "Note that this data has a DateTimeIndex. \n",
    "setting `parse_dates=True` when we read the CSV lets pandas infer this datetimeindex."
   ]
  },
  {
   "cell_type": "code",
   "execution_count": 149,
   "metadata": {},
   "outputs": [
    {
     "data": {
      "text/plain": [
       "DatetimeIndex(['1998-12-31 01:00:00', '1998-12-31 02:00:00',\n",
       "               '1998-12-31 03:00:00', '1998-12-31 04:00:00',\n",
       "               '1998-12-31 05:00:00', '1998-12-31 06:00:00',\n",
       "               '1998-12-31 07:00:00', '1998-12-31 08:00:00',\n",
       "               '1998-12-31 09:00:00', '1998-12-31 10:00:00',\n",
       "               ...\n",
       "               '2001-01-01 15:00:00', '2001-01-01 16:00:00',\n",
       "               '2001-01-01 17:00:00', '2001-01-01 18:00:00',\n",
       "               '2001-01-01 19:00:00', '2001-01-01 20:00:00',\n",
       "               '2001-01-01 21:00:00', '2001-01-01 22:00:00',\n",
       "               '2001-01-01 23:00:00', '2001-01-02 00:00:00'],\n",
       "              dtype='datetime64[ns]', name='Datetime', length=32896, freq=None)"
      ]
     },
     "execution_count": 149,
     "metadata": {},
     "output_type": "execute_result"
    }
   ],
   "source": [
    "energy.index"
   ]
  },
  {
   "attachments": {},
   "cell_type": "markdown",
   "metadata": {},
   "source": [
    "We can select data points within a specific time range, using the DateTimeIndex and .loc.\n",
    "Here, we select the first one day of data."
   ]
  },
  {
   "cell_type": "code",
   "execution_count": 150,
   "metadata": {},
   "outputs": [
    {
     "data": {
      "text/html": [
       "<div>\n",
       "<style scoped>\n",
       "    .dataframe tbody tr th:only-of-type {\n",
       "        vertical-align: middle;\n",
       "    }\n",
       "\n",
       "    .dataframe tbody tr th {\n",
       "        vertical-align: top;\n",
       "    }\n",
       "\n",
       "    .dataframe thead th {\n",
       "        text-align: right;\n",
       "    }\n",
       "</style>\n",
       "<table border=\"1\" class=\"dataframe\">\n",
       "  <thead>\n",
       "    <tr style=\"text-align: right;\">\n",
       "      <th></th>\n",
       "      <th>PJM_Load_MW</th>\n",
       "    </tr>\n",
       "    <tr>\n",
       "      <th>Datetime</th>\n",
       "      <th></th>\n",
       "    </tr>\n",
       "  </thead>\n",
       "  <tbody>\n",
       "    <tr>\n",
       "      <th>2001-01-01 00:00:00</th>\n",
       "      <td>31128.0</td>\n",
       "    </tr>\n",
       "    <tr>\n",
       "      <th>2001-02-28 01:00:00</th>\n",
       "      <td>26374.0</td>\n",
       "    </tr>\n",
       "    <tr>\n",
       "      <th>2001-02-28 02:00:00</th>\n",
       "      <td>24997.0</td>\n",
       "    </tr>\n",
       "    <tr>\n",
       "      <th>2001-02-28 03:00:00</th>\n",
       "      <td>24823.0</td>\n",
       "    </tr>\n",
       "    <tr>\n",
       "      <th>2001-02-28 04:00:00</th>\n",
       "      <td>24927.0</td>\n",
       "    </tr>\n",
       "    <tr>\n",
       "      <th>...</th>\n",
       "      <td>...</td>\n",
       "    </tr>\n",
       "    <tr>\n",
       "      <th>2001-01-01 20:00:00</th>\n",
       "      <td>35209.0</td>\n",
       "    </tr>\n",
       "    <tr>\n",
       "      <th>2001-01-01 21:00:00</th>\n",
       "      <td>34791.0</td>\n",
       "    </tr>\n",
       "    <tr>\n",
       "      <th>2001-01-01 22:00:00</th>\n",
       "      <td>33669.0</td>\n",
       "    </tr>\n",
       "    <tr>\n",
       "      <th>2001-01-01 23:00:00</th>\n",
       "      <td>31809.0</td>\n",
       "    </tr>\n",
       "    <tr>\n",
       "      <th>2001-01-02 00:00:00</th>\n",
       "      <td>29506.0</td>\n",
       "    </tr>\n",
       "  </tbody>\n",
       "</table>\n",
       "<p>1416 rows × 1 columns</p>\n",
       "</div>"
      ],
      "text/plain": [
       "                     PJM_Load_MW\n",
       "Datetime                        \n",
       "2001-01-01 00:00:00      31128.0\n",
       "2001-02-28 01:00:00      26374.0\n",
       "2001-02-28 02:00:00      24997.0\n",
       "2001-02-28 03:00:00      24823.0\n",
       "2001-02-28 04:00:00      24927.0\n",
       "...                          ...\n",
       "2001-01-01 20:00:00      35209.0\n",
       "2001-01-01 21:00:00      34791.0\n",
       "2001-01-01 22:00:00      33669.0\n",
       "2001-01-01 23:00:00      31809.0\n",
       "2001-01-02 00:00:00      29506.0\n",
       "\n",
       "[1416 rows x 1 columns]"
      ]
     },
     "execution_count": 150,
     "metadata": {},
     "output_type": "execute_result"
    }
   ],
   "source": [
    "energy.loc['2001-01':'2001-02', :]"
   ]
  },
  {
   "cell_type": "code",
   "execution_count": 151,
   "metadata": {},
   "outputs": [
    {
     "data": {
      "text/plain": [
       "2"
      ]
     },
     "execution_count": 151,
     "metadata": {},
     "output_type": "execute_result"
    }
   ],
   "source": [
    "# One record for each hour of this day.\n",
    "energy['2001-01-01 00:00:00': '2001-01-01 01:00:00'].size"
   ]
  },
  {
   "attachments": {},
   "cell_type": "markdown",
   "metadata": {},
   "source": [
    "## Selecting with boolean indexing on pandas datetimeindex\n",
    "We can use .dot notation with parts of the date to select on specific parts of the datetime, like days or months.\n",
    "\n",
    "This is because pandas datetime indexes are datetime objects under the hood.\n",
    "\n",
    "Let's look more closely at datetime objects in python."
   ]
  },
  {
   "attachments": {},
   "cell_type": "markdown",
   "metadata": {},
   "source": [
    "Python datetime functionality example:"
   ]
  },
  {
   "cell_type": "code",
   "execution_count": 152,
   "metadata": {},
   "outputs": [],
   "source": [
    "from datetime import datetime"
   ]
  },
  {
   "attachments": {},
   "cell_type": "markdown",
   "metadata": {},
   "source": [
    "We will start with a string of a date, and save this string in a variable called `s`."
   ]
  },
  {
   "cell_type": "code",
   "execution_count": 153,
   "metadata": {},
   "outputs": [],
   "source": [
    "s = '28 June, 1989'"
   ]
  },
  {
   "attachments": {},
   "cell_type": "markdown",
   "metadata": {},
   "source": [
    "Using a datetime function called `datetime.strptime()`, we can \"extract\" the date elements from this string.\n",
    "\n",
    "We do this by giving formatting indicators as to where in the string the various datetime elements are located. The format indicator `%d` denotes an integer day, `%B` denotes a long-form month written in English, and `%Y` denotes a 4-digit year.\n",
    "\n",
    "You can find more datetime format indicators in python [here](https://mkaz.blog/code/python-dates/) (under \"Datetime Format Table\").\n",
    "\n",
    "\n",
    "Using the `.strptime()` function returns a **datetime object**, with the parts of the datetime contained in order from lowest time-granularity to highest (year --> seconds)"
   ]
  },
  {
   "cell_type": "code",
   "execution_count": 157,
   "metadata": {},
   "outputs": [
    {
     "data": {
      "text/plain": [
       "datetime.datetime(1989, 6, 28, 0, 0)"
      ]
     },
     "execution_count": 157,
     "metadata": {},
     "output_type": "execute_result"
    }
   ],
   "source": [
    "d = datetime.strptime(s, '%d %B, %Y')\n",
    "d"
   ]
  },
  {
   "attachments": {},
   "cell_type": "markdown",
   "metadata": {},
   "source": [
    "As mentioned before, we can access particular parts of this datetime object using dot notation (as they are stored as attributes of the object)"
   ]
  },
  {
   "cell_type": "code",
   "execution_count": 159,
   "metadata": {},
   "outputs": [
    {
     "data": {
      "text/plain": [
       "6"
      ]
     },
     "execution_count": 159,
     "metadata": {},
     "output_type": "execute_result"
    }
   ],
   "source": [
    "d.month"
   ]
  },
  {
   "attachments": {},
   "cell_type": "markdown",
   "metadata": {},
   "source": [
    "We can then use a second function from datetime, called `strftime()`, to convert this datetime object back to a string. Here, we have to specify the new string format we would like the new date string to have."
   ]
  },
  {
   "cell_type": "code",
   "execution_count": 162,
   "metadata": {},
   "outputs": [
    {
     "data": {
      "text/plain": [
       "'28-06-89'"
      ]
     },
     "execution_count": 162,
     "metadata": {},
     "output_type": "execute_result"
    }
   ],
   "source": [
    "new_s = datetime.strftime(d, '%d-%m-%y')\n",
    "new_s"
   ]
  },
  {
   "attachments": {},
   "cell_type": "markdown",
   "metadata": {},
   "source": [
    "Now that we know about the various parts of a datetime object, we can use them to filter conditionally on the datetime object."
   ]
  },
  {
   "cell_type": "code",
   "execution_count": 166,
   "metadata": {
    "scrolled": true
   },
   "outputs": [
    {
     "data": {
      "text/html": [
       "<div>\n",
       "<style scoped>\n",
       "    .dataframe tbody tr th:only-of-type {\n",
       "        vertical-align: middle;\n",
       "    }\n",
       "\n",
       "    .dataframe tbody tr th {\n",
       "        vertical-align: top;\n",
       "    }\n",
       "\n",
       "    .dataframe thead th {\n",
       "        text-align: right;\n",
       "    }\n",
       "</style>\n",
       "<table border=\"1\" class=\"dataframe\">\n",
       "  <thead>\n",
       "    <tr style=\"text-align: right;\">\n",
       "      <th></th>\n",
       "      <th>PJM_Load_MW</th>\n",
       "    </tr>\n",
       "    <tr>\n",
       "      <th>Datetime</th>\n",
       "      <th></th>\n",
       "    </tr>\n",
       "  </thead>\n",
       "  <tbody>\n",
       "    <tr>\n",
       "      <th>1998-09-30 01:00:00</th>\n",
       "      <td>22127.0</td>\n",
       "    </tr>\n",
       "    <tr>\n",
       "      <th>1998-09-30 02:00:00</th>\n",
       "      <td>21028.0</td>\n",
       "    </tr>\n",
       "    <tr>\n",
       "      <th>1998-09-30 03:00:00</th>\n",
       "      <td>20339.0</td>\n",
       "    </tr>\n",
       "    <tr>\n",
       "      <th>1998-09-30 04:00:00</th>\n",
       "      <td>20295.0</td>\n",
       "    </tr>\n",
       "    <tr>\n",
       "      <th>1998-09-30 05:00:00</th>\n",
       "      <td>20548.0</td>\n",
       "    </tr>\n",
       "    <tr>\n",
       "      <th>...</th>\n",
       "      <td>...</td>\n",
       "    </tr>\n",
       "    <tr>\n",
       "      <th>2001-09-01 21:00:00</th>\n",
       "      <td>31687.0</td>\n",
       "    </tr>\n",
       "    <tr>\n",
       "      <th>2001-09-01 22:00:00</th>\n",
       "      <td>30174.0</td>\n",
       "    </tr>\n",
       "    <tr>\n",
       "      <th>2001-09-01 23:00:00</th>\n",
       "      <td>28026.0</td>\n",
       "    </tr>\n",
       "    <tr>\n",
       "      <th>2001-09-02 00:00:00</th>\n",
       "      <td>25711.0</td>\n",
       "    </tr>\n",
       "    <tr>\n",
       "      <th>2001-09-01 00:00:00</th>\n",
       "      <td>33489.0</td>\n",
       "    </tr>\n",
       "  </tbody>\n",
       "</table>\n",
       "<p>2880 rows × 1 columns</p>\n",
       "</div>"
      ],
      "text/plain": [
       "                     PJM_Load_MW\n",
       "Datetime                        \n",
       "1998-09-30 01:00:00      22127.0\n",
       "1998-09-30 02:00:00      21028.0\n",
       "1998-09-30 03:00:00      20339.0\n",
       "1998-09-30 04:00:00      20295.0\n",
       "1998-09-30 05:00:00      20548.0\n",
       "...                          ...\n",
       "2001-09-01 21:00:00      31687.0\n",
       "2001-09-01 22:00:00      30174.0\n",
       "2001-09-01 23:00:00      28026.0\n",
       "2001-09-02 00:00:00      25711.0\n",
       "2001-09-01 00:00:00      33489.0\n",
       "\n",
       "[2880 rows x 1 columns]"
      ]
     },
     "execution_count": 166,
     "metadata": {},
     "output_type": "execute_result"
    }
   ],
   "source": [
    "# making a new DF that only includes the month of septmeber from each year.\n",
    "energy.loc[energy.index.month == 9]"
   ]
  },
  {
   "attachments": {},
   "cell_type": "markdown",
   "metadata": {},
   "source": [
    "We can also call just a date, and get all the hours/time periods in that day:"
   ]
  },
  {
   "cell_type": "code",
   "execution_count": 167,
   "metadata": {
    "scrolled": true
   },
   "outputs": [
    {
     "data": {
      "text/html": [
       "<div>\n",
       "<style scoped>\n",
       "    .dataframe tbody tr th:only-of-type {\n",
       "        vertical-align: middle;\n",
       "    }\n",
       "\n",
       "    .dataframe tbody tr th {\n",
       "        vertical-align: top;\n",
       "    }\n",
       "\n",
       "    .dataframe thead th {\n",
       "        text-align: right;\n",
       "    }\n",
       "</style>\n",
       "<table border=\"1\" class=\"dataframe\">\n",
       "  <thead>\n",
       "    <tr style=\"text-align: right;\">\n",
       "      <th></th>\n",
       "      <th>PJM_Load_MW</th>\n",
       "    </tr>\n",
       "    <tr>\n",
       "      <th>Datetime</th>\n",
       "      <th></th>\n",
       "    </tr>\n",
       "  </thead>\n",
       "  <tbody>\n",
       "    <tr>\n",
       "      <th>2000-09-30 01:00:00</th>\n",
       "      <td>22414.0</td>\n",
       "    </tr>\n",
       "    <tr>\n",
       "      <th>2000-09-30 02:00:00</th>\n",
       "      <td>21287.0</td>\n",
       "    </tr>\n",
       "    <tr>\n",
       "      <th>2000-09-30 03:00:00</th>\n",
       "      <td>20764.0</td>\n",
       "    </tr>\n",
       "    <tr>\n",
       "      <th>2000-09-30 04:00:00</th>\n",
       "      <td>20462.0</td>\n",
       "    </tr>\n",
       "    <tr>\n",
       "      <th>2000-09-30 05:00:00</th>\n",
       "      <td>20521.0</td>\n",
       "    </tr>\n",
       "    <tr>\n",
       "      <th>...</th>\n",
       "      <td>...</td>\n",
       "    </tr>\n",
       "    <tr>\n",
       "      <th>2000-09-01 21:00:00</th>\n",
       "      <td>41661.0</td>\n",
       "    </tr>\n",
       "    <tr>\n",
       "      <th>2000-09-01 22:00:00</th>\n",
       "      <td>39819.0</td>\n",
       "    </tr>\n",
       "    <tr>\n",
       "      <th>2000-09-01 23:00:00</th>\n",
       "      <td>37194.0</td>\n",
       "    </tr>\n",
       "    <tr>\n",
       "      <th>2000-09-02 00:00:00</th>\n",
       "      <td>34046.0</td>\n",
       "    </tr>\n",
       "    <tr>\n",
       "      <th>2000-09-01 00:00:00</th>\n",
       "      <td>34391.0</td>\n",
       "    </tr>\n",
       "  </tbody>\n",
       "</table>\n",
       "<p>720 rows × 1 columns</p>\n",
       "</div>"
      ],
      "text/plain": [
       "                     PJM_Load_MW\n",
       "Datetime                        \n",
       "2000-09-30 01:00:00      22414.0\n",
       "2000-09-30 02:00:00      21287.0\n",
       "2000-09-30 03:00:00      20764.0\n",
       "2000-09-30 04:00:00      20462.0\n",
       "2000-09-30 05:00:00      20521.0\n",
       "...                          ...\n",
       "2000-09-01 21:00:00      41661.0\n",
       "2000-09-01 22:00:00      39819.0\n",
       "2000-09-01 23:00:00      37194.0\n",
       "2000-09-02 00:00:00      34046.0\n",
       "2000-09-01 00:00:00      34391.0\n",
       "\n",
       "[720 rows x 1 columns]"
      ]
     },
     "execution_count": 167,
     "metadata": {},
     "output_type": "execute_result"
    }
   ],
   "source": [
    "energy.loc['2000-09']"
   ]
  },
  {
   "attachments": {},
   "cell_type": "markdown",
   "metadata": {},
   "source": [
    "Same with for a year and month:"
   ]
  },
  {
   "cell_type": "code",
   "execution_count": null,
   "metadata": {},
   "outputs": [],
   "source": []
  },
  {
   "cell_type": "code",
   "execution_count": 85,
   "metadata": {},
   "outputs": [],
   "source": [
    "# We see that it includes one record for each our of each day of the month of January, which has 31 days\n"
   ]
  },
  {
   "cell_type": "code",
   "execution_count": 86,
   "metadata": {},
   "outputs": [],
   "source": [
    "# or better, with an assert statement:\n",
    "\n",
    "\n",
    "# assert passes silently, meaning it is True\n"
   ]
  },
  {
   "attachments": {},
   "cell_type": "markdown",
   "metadata": {},
   "source": [
    "## Resampling\n",
    "We can also combine the data in different ways, and over different time periods.\n",
    "This means that just because our data is in hourly time periods, we dont have to keep it that way. "
   ]
  },
  {
   "cell_type": "code",
   "execution_count": 173,
   "metadata": {
    "scrolled": true
   },
   "outputs": [
    {
     "data": {
      "text/html": [
       "<div>\n",
       "<style scoped>\n",
       "    .dataframe tbody tr th:only-of-type {\n",
       "        vertical-align: middle;\n",
       "    }\n",
       "\n",
       "    .dataframe tbody tr th {\n",
       "        vertical-align: top;\n",
       "    }\n",
       "\n",
       "    .dataframe thead th {\n",
       "        text-align: right;\n",
       "    }\n",
       "</style>\n",
       "<table border=\"1\" class=\"dataframe\">\n",
       "  <thead>\n",
       "    <tr style=\"text-align: right;\">\n",
       "      <th></th>\n",
       "      <th>PJM_Load_MW</th>\n",
       "    </tr>\n",
       "    <tr>\n",
       "      <th>Datetime</th>\n",
       "      <th></th>\n",
       "    </tr>\n",
       "  </thead>\n",
       "  <tbody>\n",
       "    <tr>\n",
       "      <th>1998-04-01</th>\n",
       "      <td>27813.739130</td>\n",
       "    </tr>\n",
       "    <tr>\n",
       "      <th>1998-04-02</th>\n",
       "      <td>26605.791667</td>\n",
       "    </tr>\n",
       "    <tr>\n",
       "      <th>1998-04-03</th>\n",
       "      <td>25672.333333</td>\n",
       "    </tr>\n",
       "    <tr>\n",
       "      <th>1998-04-04</th>\n",
       "      <td>24487.083333</td>\n",
       "    </tr>\n",
       "    <tr>\n",
       "      <th>1998-04-05</th>\n",
       "      <td>23487.565217</td>\n",
       "    </tr>\n",
       "  </tbody>\n",
       "</table>\n",
       "</div>"
      ],
      "text/plain": [
       "             PJM_Load_MW\n",
       "Datetime                \n",
       "1998-04-01  27813.739130\n",
       "1998-04-02  26605.791667\n",
       "1998-04-03  25672.333333\n",
       "1998-04-04  24487.083333\n",
       "1998-04-05  23487.565217"
      ]
     },
     "execution_count": 173,
     "metadata": {},
     "output_type": "execute_result"
    }
   ],
   "source": [
    "# We can get the average load over a day:\n",
    "daily_ave = energy.resample('D').mean()\n",
    "daily_ave.head()"
   ]
  },
  {
   "cell_type": "code",
   "execution_count": 174,
   "metadata": {},
   "outputs": [
    {
     "data": {
      "text/html": [
       "<div>\n",
       "<style scoped>\n",
       "    .dataframe tbody tr th:only-of-type {\n",
       "        vertical-align: middle;\n",
       "    }\n",
       "\n",
       "    .dataframe tbody tr th {\n",
       "        vertical-align: top;\n",
       "    }\n",
       "\n",
       "    .dataframe thead th {\n",
       "        text-align: right;\n",
       "    }\n",
       "</style>\n",
       "<table border=\"1\" class=\"dataframe\">\n",
       "  <thead>\n",
       "    <tr style=\"text-align: right;\">\n",
       "      <th></th>\n",
       "      <th>PJM_Load_MWh</th>\n",
       "    </tr>\n",
       "    <tr>\n",
       "      <th>Datetime</th>\n",
       "      <th></th>\n",
       "    </tr>\n",
       "  </thead>\n",
       "  <tbody>\n",
       "    <tr>\n",
       "      <th>1998-04-01</th>\n",
       "      <td>639716.0</td>\n",
       "    </tr>\n",
       "    <tr>\n",
       "      <th>1998-04-02</th>\n",
       "      <td>638539.0</td>\n",
       "    </tr>\n",
       "    <tr>\n",
       "      <th>1998-04-03</th>\n",
       "      <td>616136.0</td>\n",
       "    </tr>\n",
       "    <tr>\n",
       "      <th>1998-04-04</th>\n",
       "      <td>587690.0</td>\n",
       "    </tr>\n",
       "    <tr>\n",
       "      <th>1998-04-05</th>\n",
       "      <td>540214.0</td>\n",
       "    </tr>\n",
       "  </tbody>\n",
       "</table>\n",
       "</div>"
      ],
      "text/plain": [
       "            PJM_Load_MWh\n",
       "Datetime                \n",
       "1998-04-01      639716.0\n",
       "1998-04-02      638539.0\n",
       "1998-04-03      616136.0\n",
       "1998-04-04      587690.0\n",
       "1998-04-05      540214.0"
      ]
     },
     "execution_count": 174,
     "metadata": {},
     "output_type": "execute_result"
    }
   ],
   "source": [
    "# We can also get the total MWh used in a day:\n",
    "daily_energy = energy.resample('D').sum()\n",
    "# have to change unit from MW to MWh since summing changes measure from power to energy \n",
    "# more info on that here: https://energyeducation.ca/encyclopedia/Energy_vs_power\n",
    "daily_energy.columns = [\"PJM_Load_MWh\"]\n",
    "daily_energy.head()"
   ]
  },
  {
   "attachments": {},
   "cell_type": "markdown",
   "metadata": {},
   "source": [
    "## Groupby with DateTimeIndex\n",
    "Using groupby with a pandas DateTimeIndex can be extremely useful and powerful.\n",
    "Let's look at how this can work."
   ]
  },
  {
   "cell_type": "code",
   "execution_count": 180,
   "metadata": {},
   "outputs": [
    {
     "name": "stderr",
     "output_type": "stream",
     "text": [
      "/tmp/ipykernel_350234/3591898305.py:3: FutureWarning: weekofyear and week have been deprecated, please use DatetimeIndex.isocalendar().week instead, which returns a Series. To exactly reproduce the behavior of week and weekofyear and return an Index, you may call pd.Int64Index(idx.isocalendar().week)\n",
      "  energy.index.week,\n"
     ]
    }
   ],
   "source": [
    "indexes = [energy.index.year,\n",
    "         energy.index.month,\n",
    "         energy.index.week,\n",
    "         energy.index.weekday,\n",
    "         energy.index.day,\n",
    "         ]\n",
    "\n",
    "aggregated = energy.groupby(indexes).sum()"
   ]
  },
  {
   "cell_type": "code",
   "execution_count": 181,
   "metadata": {},
   "outputs": [
    {
     "data": {
      "text/html": [
       "<div>\n",
       "<style scoped>\n",
       "    .dataframe tbody tr th:only-of-type {\n",
       "        vertical-align: middle;\n",
       "    }\n",
       "\n",
       "    .dataframe tbody tr th {\n",
       "        vertical-align: top;\n",
       "    }\n",
       "\n",
       "    .dataframe thead th {\n",
       "        text-align: right;\n",
       "    }\n",
       "</style>\n",
       "<table border=\"1\" class=\"dataframe\">\n",
       "  <thead>\n",
       "    <tr style=\"text-align: right;\">\n",
       "      <th></th>\n",
       "      <th></th>\n",
       "      <th></th>\n",
       "      <th></th>\n",
       "      <th></th>\n",
       "      <th>PJM_Load_MW</th>\n",
       "    </tr>\n",
       "    <tr>\n",
       "      <th>Datetime</th>\n",
       "      <th>Datetime</th>\n",
       "      <th>Datetime</th>\n",
       "      <th>Datetime</th>\n",
       "      <th>Datetime</th>\n",
       "      <th></th>\n",
       "    </tr>\n",
       "  </thead>\n",
       "  <tbody>\n",
       "    <tr>\n",
       "      <th rowspan=\"5\" valign=\"top\">1998</th>\n",
       "      <th rowspan=\"5\" valign=\"top\">4</th>\n",
       "      <th rowspan=\"5\" valign=\"top\">14</th>\n",
       "      <th>2</th>\n",
       "      <th>1</th>\n",
       "      <td>639716.0</td>\n",
       "    </tr>\n",
       "    <tr>\n",
       "      <th>3</th>\n",
       "      <th>2</th>\n",
       "      <td>638539.0</td>\n",
       "    </tr>\n",
       "    <tr>\n",
       "      <th>4</th>\n",
       "      <th>3</th>\n",
       "      <td>616136.0</td>\n",
       "    </tr>\n",
       "    <tr>\n",
       "      <th>5</th>\n",
       "      <th>4</th>\n",
       "      <td>587690.0</td>\n",
       "    </tr>\n",
       "    <tr>\n",
       "      <th>6</th>\n",
       "      <th>5</th>\n",
       "      <td>540214.0</td>\n",
       "    </tr>\n",
       "  </tbody>\n",
       "</table>\n",
       "</div>"
      ],
      "text/plain": [
       "                                              PJM_Load_MW\n",
       "Datetime Datetime Datetime Datetime Datetime             \n",
       "1998     4        14       2        1            639716.0\n",
       "                           3        2            638539.0\n",
       "                           4        3            616136.0\n",
       "                           5        4            587690.0\n",
       "                           6        5            540214.0"
      ]
     },
     "execution_count": 181,
     "metadata": {},
     "output_type": "execute_result"
    }
   ],
   "source": [
    "aggregated.head()"
   ]
  },
  {
   "attachments": {},
   "cell_type": "markdown",
   "metadata": {},
   "source": [
    "The index level names are not particularly helpful here. We can change them."
   ]
  },
  {
   "cell_type": "code",
   "execution_count": 187,
   "metadata": {},
   "outputs": [
    {
     "data": {
      "text/html": [
       "<div>\n",
       "<style scoped>\n",
       "    .dataframe tbody tr th:only-of-type {\n",
       "        vertical-align: middle;\n",
       "    }\n",
       "\n",
       "    .dataframe tbody tr th {\n",
       "        vertical-align: top;\n",
       "    }\n",
       "\n",
       "    .dataframe thead th {\n",
       "        text-align: right;\n",
       "    }\n",
       "</style>\n",
       "<table border=\"1\" class=\"dataframe\">\n",
       "  <thead>\n",
       "    <tr style=\"text-align: right;\">\n",
       "      <th></th>\n",
       "      <th></th>\n",
       "      <th></th>\n",
       "      <th></th>\n",
       "      <th></th>\n",
       "      <th>PJM_Load_MW</th>\n",
       "    </tr>\n",
       "    <tr>\n",
       "      <th>year</th>\n",
       "      <th>month</th>\n",
       "      <th>week</th>\n",
       "      <th>weekday</th>\n",
       "      <th>day</th>\n",
       "      <th></th>\n",
       "    </tr>\n",
       "  </thead>\n",
       "  <tbody>\n",
       "    <tr>\n",
       "      <th rowspan=\"5\" valign=\"top\">1998</th>\n",
       "      <th rowspan=\"5\" valign=\"top\">4</th>\n",
       "      <th rowspan=\"5\" valign=\"top\">14</th>\n",
       "      <th>2</th>\n",
       "      <th>1</th>\n",
       "      <td>639716.0</td>\n",
       "    </tr>\n",
       "    <tr>\n",
       "      <th>3</th>\n",
       "      <th>2</th>\n",
       "      <td>638539.0</td>\n",
       "    </tr>\n",
       "    <tr>\n",
       "      <th>4</th>\n",
       "      <th>3</th>\n",
       "      <td>616136.0</td>\n",
       "    </tr>\n",
       "    <tr>\n",
       "      <th>5</th>\n",
       "      <th>4</th>\n",
       "      <td>587690.0</td>\n",
       "    </tr>\n",
       "    <tr>\n",
       "      <th>6</th>\n",
       "      <th>5</th>\n",
       "      <td>540214.0</td>\n",
       "    </tr>\n",
       "  </tbody>\n",
       "</table>\n",
       "</div>"
      ],
      "text/plain": [
       "                             PJM_Load_MW\n",
       "year month week weekday day             \n",
       "1998 4     14   2       1       639716.0\n",
       "                3       2       638539.0\n",
       "                4       3       616136.0\n",
       "                5       4       587690.0\n",
       "                6       5       540214.0"
      ]
     },
     "execution_count": 187,
     "metadata": {},
     "output_type": "execute_result"
    }
   ],
   "source": [
    "# the long, ugly way\n",
    "aggregated.index.set_names('year', level=0, inplace=True)\n",
    "aggregated.index.set_names('month', level=1, inplace=True)\n",
    "aggregated.index.set_names('week', level=2, inplace=True)\n",
    "aggregated.index.set_names('weekday', level=3, inplace=True)\n",
    "aggregated.index.set_names('day', level=4, inplace=True)\n",
    "aggregated.head()"
   ]
  },
  {
   "cell_type": "code",
   "execution_count": 92,
   "metadata": {},
   "outputs": [],
   "source": [
    "# resetting the df to get multi-index again\n",
    "\n",
    "\n",
    "# the short, clean way. Both do the same thing.\n"
   ]
  },
  {
   "cell_type": "code",
   "execution_count": null,
   "metadata": {
    "scrolled": true
   },
   "outputs": [],
   "source": []
  },
  {
   "attachments": {},
   "cell_type": "markdown",
   "metadata": {},
   "source": [
    "## Selecting on Multi-Index: Using reset_index()\n",
    "Selecting via a multi-index is difficult. It is much easier to work with these as \"normal\" pandas DataFrame columns.\n",
    "\n",
    "To transform multi-indexes in to columns, we use `reset_index()`. Reset index pushes anything in the index into columns, and makes a new index with is simply an ascending count, starting at 0. "
   ]
  },
  {
   "cell_type": "code",
   "execution_count": null,
   "metadata": {},
   "outputs": [],
   "source": []
  },
  {
   "attachments": {},
   "cell_type": "markdown",
   "metadata": {},
   "source": [
    "Here, we can select all rows that were in week 50 in any year."
   ]
  },
  {
   "cell_type": "code",
   "execution_count": null,
   "metadata": {},
   "outputs": [],
   "source": []
  },
  {
   "attachments": {},
   "cell_type": "markdown",
   "metadata": {},
   "source": [
    "## Exercise:\n",
    "\n",
    "- Find the day of the week that averages the highest consumption\n",
    "\n",
    "- Find the time of day that averages the lowest consumption.\n",
    "    - Has this changed over the years?\n",
    "    \n",
    "\n",
    "- Is average consumption rising, falling, or staying the same over the years?\n",
    "- What is the %age difference in consumption on average between April and June?"
   ]
  },
  {
   "attachments": {},
   "cell_type": "markdown",
   "metadata": {},
   "source": [
    "- Find the day of the week that averages the highest consumption"
   ]
  },
  {
   "cell_type": "code",
   "execution_count": 229,
   "metadata": {},
   "outputs": [
    {
     "ename": "AttributeError",
     "evalue": "'SeriesGroupBy' object has no attribute 'range'",
     "output_type": "error",
     "traceback": [
      "\u001b[0;31m---------------------------------------------------------------------------\u001b[0m",
      "\u001b[0;31mAttributeError\u001b[0m                            Traceback (most recent call last)",
      "Cell \u001b[0;32mIn[229], line 2\u001b[0m\n\u001b[1;32m      1\u001b[0m energy\u001b[39m.\u001b[39mgroupby(energy\u001b[39m.\u001b[39mindex\u001b[39m.\u001b[39mweekday)\u001b[39m.\u001b[39mmean()\u001b[39m.\u001b[39midxmax()\n\u001b[0;32m----> 2\u001b[0m energy\u001b[39m.\u001b[39;49mgroupby([energy\u001b[39m.\u001b[39;49mindex\u001b[39m.\u001b[39;49mhour, energy\u001b[39m.\u001b[39;49mindex\u001b[39m.\u001b[39;49mweekday])\u001b[39m.\u001b[39;49magg({\u001b[39m'\u001b[39;49m\u001b[39mPJM_Load_MW\u001b[39;49m\u001b[39m'\u001b[39;49m: [\u001b[39m'\u001b[39;49m\u001b[39mrange\u001b[39;49m\u001b[39m'\u001b[39;49m]})\n",
      "File \u001b[0;32m~/tools/anaconda3/envs/dsr-b35/lib/python3.10/site-packages/pandas/core/groupby/generic.py:895\u001b[0m, in \u001b[0;36mDataFrameGroupBy.aggregate\u001b[0;34m(self, func, engine, engine_kwargs, *args, **kwargs)\u001b[0m\n\u001b[1;32m    892\u001b[0m func \u001b[39m=\u001b[39m maybe_mangle_lambdas(func)\n\u001b[1;32m    894\u001b[0m op \u001b[39m=\u001b[39m GroupByApply(\u001b[39mself\u001b[39m, func, args, kwargs)\n\u001b[0;32m--> 895\u001b[0m result \u001b[39m=\u001b[39m op\u001b[39m.\u001b[39;49magg()\n\u001b[1;32m    896\u001b[0m \u001b[39mif\u001b[39;00m \u001b[39mnot\u001b[39;00m is_dict_like(func) \u001b[39mand\u001b[39;00m result \u001b[39mis\u001b[39;00m \u001b[39mnot\u001b[39;00m \u001b[39mNone\u001b[39;00m:\n\u001b[1;32m    897\u001b[0m     \u001b[39mreturn\u001b[39;00m result\n",
      "File \u001b[0;32m~/tools/anaconda3/envs/dsr-b35/lib/python3.10/site-packages/pandas/core/apply.py:172\u001b[0m, in \u001b[0;36mApply.agg\u001b[0;34m(self)\u001b[0m\n\u001b[1;32m    169\u001b[0m     \u001b[39mreturn\u001b[39;00m \u001b[39mself\u001b[39m\u001b[39m.\u001b[39mapply_str()\n\u001b[1;32m    171\u001b[0m \u001b[39mif\u001b[39;00m is_dict_like(arg):\n\u001b[0;32m--> 172\u001b[0m     \u001b[39mreturn\u001b[39;00m \u001b[39mself\u001b[39;49m\u001b[39m.\u001b[39;49magg_dict_like()\n\u001b[1;32m    173\u001b[0m \u001b[39melif\u001b[39;00m is_list_like(arg):\n\u001b[1;32m    174\u001b[0m     \u001b[39m# we require a list, but not a 'str'\u001b[39;00m\n\u001b[1;32m    175\u001b[0m     \u001b[39mreturn\u001b[39;00m \u001b[39mself\u001b[39m\u001b[39m.\u001b[39magg_list_like()\n",
      "File \u001b[0;32m~/tools/anaconda3/envs/dsr-b35/lib/python3.10/site-packages/pandas/core/apply.py:504\u001b[0m, in \u001b[0;36mApply.agg_dict_like\u001b[0;34m(self)\u001b[0m\n\u001b[1;32m    501\u001b[0m     results \u001b[39m=\u001b[39m {key: colg\u001b[39m.\u001b[39magg(how) \u001b[39mfor\u001b[39;00m key, how \u001b[39min\u001b[39;00m arg\u001b[39m.\u001b[39mitems()}\n\u001b[1;32m    502\u001b[0m \u001b[39melse\u001b[39;00m:\n\u001b[1;32m    503\u001b[0m     \u001b[39m# key used for column selection and output\u001b[39;00m\n\u001b[0;32m--> 504\u001b[0m     results \u001b[39m=\u001b[39m {\n\u001b[1;32m    505\u001b[0m         key: obj\u001b[39m.\u001b[39m_gotitem(key, ndim\u001b[39m=\u001b[39m\u001b[39m1\u001b[39m)\u001b[39m.\u001b[39magg(how) \u001b[39mfor\u001b[39;00m key, how \u001b[39min\u001b[39;00m arg\u001b[39m.\u001b[39mitems()\n\u001b[1;32m    506\u001b[0m     }\n\u001b[1;32m    508\u001b[0m \u001b[39m# set the final keys\u001b[39;00m\n\u001b[1;32m    509\u001b[0m keys \u001b[39m=\u001b[39m \u001b[39mlist\u001b[39m(arg\u001b[39m.\u001b[39mkeys())\n",
      "File \u001b[0;32m~/tools/anaconda3/envs/dsr-b35/lib/python3.10/site-packages/pandas/core/apply.py:505\u001b[0m, in \u001b[0;36m<dictcomp>\u001b[0;34m(.0)\u001b[0m\n\u001b[1;32m    501\u001b[0m     results \u001b[39m=\u001b[39m {key: colg\u001b[39m.\u001b[39magg(how) \u001b[39mfor\u001b[39;00m key, how \u001b[39min\u001b[39;00m arg\u001b[39m.\u001b[39mitems()}\n\u001b[1;32m    502\u001b[0m \u001b[39melse\u001b[39;00m:\n\u001b[1;32m    503\u001b[0m     \u001b[39m# key used for column selection and output\u001b[39;00m\n\u001b[1;32m    504\u001b[0m     results \u001b[39m=\u001b[39m {\n\u001b[0;32m--> 505\u001b[0m         key: obj\u001b[39m.\u001b[39;49m_gotitem(key, ndim\u001b[39m=\u001b[39;49m\u001b[39m1\u001b[39;49m)\u001b[39m.\u001b[39;49magg(how) \u001b[39mfor\u001b[39;00m key, how \u001b[39min\u001b[39;00m arg\u001b[39m.\u001b[39mitems()\n\u001b[1;32m    506\u001b[0m     }\n\u001b[1;32m    508\u001b[0m \u001b[39m# set the final keys\u001b[39;00m\n\u001b[1;32m    509\u001b[0m keys \u001b[39m=\u001b[39m \u001b[39mlist\u001b[39m(arg\u001b[39m.\u001b[39mkeys())\n",
      "File \u001b[0;32m~/tools/anaconda3/envs/dsr-b35/lib/python3.10/site-packages/pandas/core/groupby/generic.py:281\u001b[0m, in \u001b[0;36mSeriesGroupBy.aggregate\u001b[0;34m(self, func, engine, engine_kwargs, *args, **kwargs)\u001b[0m\n\u001b[1;32m    277\u001b[0m \u001b[39melif\u001b[39;00m \u001b[39misinstance\u001b[39m(func, abc\u001b[39m.\u001b[39mIterable):\n\u001b[1;32m    278\u001b[0m     \u001b[39m# Catch instances of lists / tuples\u001b[39;00m\n\u001b[1;32m    279\u001b[0m     \u001b[39m# but not the class list / tuple itself.\u001b[39;00m\n\u001b[1;32m    280\u001b[0m     func \u001b[39m=\u001b[39m maybe_mangle_lambdas(func)\n\u001b[0;32m--> 281\u001b[0m     ret \u001b[39m=\u001b[39m \u001b[39mself\u001b[39;49m\u001b[39m.\u001b[39;49m_aggregate_multiple_funcs(func)\n\u001b[1;32m    282\u001b[0m     \u001b[39mif\u001b[39;00m relabeling:\n\u001b[1;32m    283\u001b[0m         \u001b[39m# columns is not narrowed by mypy from relabeling flag\u001b[39;00m\n\u001b[1;32m    284\u001b[0m         \u001b[39massert\u001b[39;00m columns \u001b[39mis\u001b[39;00m \u001b[39mnot\u001b[39;00m \u001b[39mNone\u001b[39;00m  \u001b[39m# for mypy\u001b[39;00m\n",
      "File \u001b[0;32m~/tools/anaconda3/envs/dsr-b35/lib/python3.10/site-packages/pandas/core/groupby/generic.py:336\u001b[0m, in \u001b[0;36mSeriesGroupBy._aggregate_multiple_funcs\u001b[0;34m(self, arg)\u001b[0m\n\u001b[1;32m    333\u001b[0m \u001b[39mfor\u001b[39;00m idx, (name, func) \u001b[39min\u001b[39;00m \u001b[39menumerate\u001b[39m(arg):\n\u001b[1;32m    335\u001b[0m     key \u001b[39m=\u001b[39m base\u001b[39m.\u001b[39mOutputKey(label\u001b[39m=\u001b[39mname, position\u001b[39m=\u001b[39midx)\n\u001b[0;32m--> 336\u001b[0m     results[key] \u001b[39m=\u001b[39m \u001b[39mself\u001b[39;49m\u001b[39m.\u001b[39;49maggregate(func)\n\u001b[1;32m    338\u001b[0m \u001b[39mif\u001b[39;00m \u001b[39many\u001b[39m(\u001b[39misinstance\u001b[39m(x, DataFrame) \u001b[39mfor\u001b[39;00m x \u001b[39min\u001b[39;00m results\u001b[39m.\u001b[39mvalues()):\n\u001b[1;32m    339\u001b[0m     \u001b[39mfrom\u001b[39;00m \u001b[39mpandas\u001b[39;00m \u001b[39mimport\u001b[39;00m concat\n",
      "File \u001b[0;32m~/tools/anaconda3/envs/dsr-b35/lib/python3.10/site-packages/pandas/core/groupby/generic.py:275\u001b[0m, in \u001b[0;36mSeriesGroupBy.aggregate\u001b[0;34m(self, func, engine, engine_kwargs, *args, **kwargs)\u001b[0m\n\u001b[1;32m    272\u001b[0m     kwargs \u001b[39m=\u001b[39m {}\n\u001b[1;32m    274\u001b[0m \u001b[39mif\u001b[39;00m \u001b[39misinstance\u001b[39m(func, \u001b[39mstr\u001b[39m):\n\u001b[0;32m--> 275\u001b[0m     \u001b[39mreturn\u001b[39;00m \u001b[39mgetattr\u001b[39;49m(\u001b[39mself\u001b[39;49m, func)(\u001b[39m*\u001b[39margs, \u001b[39m*\u001b[39m\u001b[39m*\u001b[39mkwargs)\n\u001b[1;32m    277\u001b[0m \u001b[39melif\u001b[39;00m \u001b[39misinstance\u001b[39m(func, abc\u001b[39m.\u001b[39mIterable):\n\u001b[1;32m    278\u001b[0m     \u001b[39m# Catch instances of lists / tuples\u001b[39;00m\n\u001b[1;32m    279\u001b[0m     \u001b[39m# but not the class list / tuple itself.\u001b[39;00m\n\u001b[1;32m    280\u001b[0m     func \u001b[39m=\u001b[39m maybe_mangle_lambdas(func)\n",
      "File \u001b[0;32m~/tools/anaconda3/envs/dsr-b35/lib/python3.10/site-packages/pandas/core/groupby/groupby.py:987\u001b[0m, in \u001b[0;36mGroupBy.__getattr__\u001b[0;34m(self, attr)\u001b[0m\n\u001b[1;32m    984\u001b[0m \u001b[39mif\u001b[39;00m attr \u001b[39min\u001b[39;00m \u001b[39mself\u001b[39m\u001b[39m.\u001b[39mobj:\n\u001b[1;32m    985\u001b[0m     \u001b[39mreturn\u001b[39;00m \u001b[39mself\u001b[39m[attr]\n\u001b[0;32m--> 987\u001b[0m \u001b[39mraise\u001b[39;00m \u001b[39mAttributeError\u001b[39;00m(\n\u001b[1;32m    988\u001b[0m     \u001b[39mf\u001b[39m\u001b[39m\"\u001b[39m\u001b[39m'\u001b[39m\u001b[39m{\u001b[39;00m\u001b[39mtype\u001b[39m(\u001b[39mself\u001b[39m)\u001b[39m.\u001b[39m\u001b[39m__name__\u001b[39m\u001b[39m}\u001b[39;00m\u001b[39m'\u001b[39m\u001b[39m object has no attribute \u001b[39m\u001b[39m'\u001b[39m\u001b[39m{\u001b[39;00mattr\u001b[39m}\u001b[39;00m\u001b[39m'\u001b[39m\u001b[39m\"\u001b[39m\n\u001b[1;32m    989\u001b[0m )\n",
      "\u001b[0;31mAttributeError\u001b[0m: 'SeriesGroupBy' object has no attribute 'range'"
     ]
    }
   ],
   "source": [
    "energy.groupby(energy.index.weekday).mean().idxmax()\n",
    "energy.groupby([energy.index.hour, energy.index.weekday]).agg({'PJM_Load_MW': ['mean']})"
   ]
  },
  {
   "attachments": {},
   "cell_type": "markdown",
   "metadata": {},
   "source": [
    "- Find the time of day that averages the lowest consumption.\n",
    "    - Has this changed over the years?"
   ]
  },
  {
   "cell_type": "code",
   "execution_count": 208,
   "metadata": {},
   "outputs": [
    {
     "data": {
      "text/html": [
       "<div>\n",
       "<style scoped>\n",
       "    .dataframe tbody tr th:only-of-type {\n",
       "        vertical-align: middle;\n",
       "    }\n",
       "\n",
       "    .dataframe tbody tr th {\n",
       "        vertical-align: top;\n",
       "    }\n",
       "\n",
       "    .dataframe thead th {\n",
       "        text-align: right;\n",
       "    }\n",
       "</style>\n",
       "<table border=\"1\" class=\"dataframe\">\n",
       "  <thead>\n",
       "    <tr style=\"text-align: right;\">\n",
       "      <th></th>\n",
       "      <th>PJM_Load_MW</th>\n",
       "    </tr>\n",
       "    <tr>\n",
       "      <th>Datetime</th>\n",
       "      <th></th>\n",
       "    </tr>\n",
       "  </thead>\n",
       "  <tbody>\n",
       "    <tr>\n",
       "      <th>1998</th>\n",
       "      <td>(1998, 4)</td>\n",
       "    </tr>\n",
       "    <tr>\n",
       "      <th>1999</th>\n",
       "      <td>(1999, 4)</td>\n",
       "    </tr>\n",
       "    <tr>\n",
       "      <th>2000</th>\n",
       "      <td>(2000, 4)</td>\n",
       "    </tr>\n",
       "    <tr>\n",
       "      <th>2001</th>\n",
       "      <td>(2001, 4)</td>\n",
       "    </tr>\n",
       "    <tr>\n",
       "      <th>2002</th>\n",
       "      <td>(2002, 0)</td>\n",
       "    </tr>\n",
       "  </tbody>\n",
       "</table>\n",
       "</div>"
      ],
      "text/plain": [
       "         PJM_Load_MW\n",
       "Datetime            \n",
       "1998       (1998, 4)\n",
       "1999       (1999, 4)\n",
       "2000       (2000, 4)\n",
       "2001       (2001, 4)\n",
       "2002       (2002, 0)"
      ]
     },
     "execution_count": 208,
     "metadata": {},
     "output_type": "execute_result"
    }
   ],
   "source": [
    "energy.groupby(energy.index.hour).mean().idxmin()\n",
    "time_of_day = energy.groupby([energy.index.year, energy.index.hour]).mean()\n",
    "time_of_day.groupby(level=0).idxmin()"
   ]
  },
  {
   "attachments": {},
   "cell_type": "markdown",
   "metadata": {},
   "source": [
    "- Is average consumption rising, falling, or staying the same over the years?"
   ]
  },
  {
   "cell_type": "code",
   "execution_count": 209,
   "metadata": {},
   "outputs": [
    {
     "data": {
      "text/html": [
       "<div>\n",
       "<style scoped>\n",
       "    .dataframe tbody tr th:only-of-type {\n",
       "        vertical-align: middle;\n",
       "    }\n",
       "\n",
       "    .dataframe tbody tr th {\n",
       "        vertical-align: top;\n",
       "    }\n",
       "\n",
       "    .dataframe thead th {\n",
       "        text-align: right;\n",
       "    }\n",
       "</style>\n",
       "<table border=\"1\" class=\"dataframe\">\n",
       "  <thead>\n",
       "    <tr style=\"text-align: right;\">\n",
       "      <th></th>\n",
       "      <th>PJM_Load_MW</th>\n",
       "    </tr>\n",
       "    <tr>\n",
       "      <th>Datetime</th>\n",
       "      <th></th>\n",
       "    </tr>\n",
       "  </thead>\n",
       "  <tbody>\n",
       "    <tr>\n",
       "      <th>1998</th>\n",
       "      <td>28761.826436</td>\n",
       "    </tr>\n",
       "    <tr>\n",
       "      <th>1999</th>\n",
       "      <td>29642.061772</td>\n",
       "    </tr>\n",
       "    <tr>\n",
       "      <th>2000</th>\n",
       "      <td>30114.333182</td>\n",
       "    </tr>\n",
       "    <tr>\n",
       "      <th>2001</th>\n",
       "      <td>30298.447933</td>\n",
       "    </tr>\n",
       "    <tr>\n",
       "      <th>2002</th>\n",
       "      <td>31569.000000</td>\n",
       "    </tr>\n",
       "  </tbody>\n",
       "</table>\n",
       "</div>"
      ],
      "text/plain": [
       "           PJM_Load_MW\n",
       "Datetime              \n",
       "1998      28761.826436\n",
       "1999      29642.061772\n",
       "2000      30114.333182\n",
       "2001      30298.447933\n",
       "2002      31569.000000"
      ]
     },
     "execution_count": 209,
     "metadata": {},
     "output_type": "execute_result"
    }
   ],
   "source": [
    "energy.groupby(energy.index.year).mean()"
   ]
  },
  {
   "attachments": {},
   "cell_type": "markdown",
   "metadata": {},
   "source": [
    "- What is the %age difference in consumption on average between April and June?"
   ]
  },
  {
   "cell_type": "code",
   "execution_count": 216,
   "metadata": {},
   "outputs": [
    {
     "data": {
      "text/plain": [
       "PJM_Load_MW    21.44475\n",
       "dtype: float64"
      ]
     },
     "execution_count": 216,
     "metadata": {},
     "output_type": "execute_result"
    }
   ],
   "source": [
    "april_enrgy = energy[energy.index.month == 4].mean()\n",
    "june_enrgy = energy[energy.index.month == 6].mean()\n",
    "\n",
    "perc = (june_enrgy - april_enrgy) /april_enrgy *100\n",
    "\n",
    "perc"
   ]
  }
 ],
 "metadata": {
  "kernelspec": {
   "display_name": "Python 3 (ipykernel)",
   "language": "python",
   "name": "python3"
  },
  "language_info": {
   "codemirror_mode": {
    "name": "ipython",
    "version": 3
   },
   "file_extension": ".py",
   "mimetype": "text/x-python",
   "name": "python",
   "nbconvert_exporter": "python",
   "pygments_lexer": "ipython3",
   "version": "3.10.11"
  }
 },
 "nbformat": 4,
 "nbformat_minor": 4
}
